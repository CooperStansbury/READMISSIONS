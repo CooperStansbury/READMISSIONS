{
 "metadata": {
  "language_info": {
   "codemirror_mode": {
    "name": "ipython",
    "version": 3
   },
   "file_extension": ".py",
   "mimetype": "text/x-python",
   "name": "python",
   "nbconvert_exporter": "python",
   "pygments_lexer": "ipython3",
   "version": "3.7.8-final"
  },
  "orig_nbformat": 2,
  "kernelspec": {
   "name": "Python 3.7.8 64-bit ('anaconda3': virtualenv)",
   "display_name": "Python 3.7.8 64-bit ('anaconda3': virtualenv)",
   "metadata": {
    "interpreter": {
     "hash": "96762580dc771c728ac9a1b8aa29a3a420bc09545a8c1a32553175fbb1f6eb2a"
    }
   }
  }
 },
 "nbformat": 4,
 "nbformat_minor": 2,
 "cells": [
  {
   "cell_type": "code",
   "execution_count": 1,
   "metadata": {},
   "outputs": [
    {
     "output_type": "execute_result",
     "data": {
      "text/plain": [
       "<module 'utils' from '/Users/milk/Desktop/git_repositories/READMISSIONS/washtenaw_case_study/notebooks/utils.py'>"
      ]
     },
     "metadata": {},
     "execution_count": 1
    }
   ],
   "source": [
    "import pandas as pd\n",
    "import numpy as np\n",
    "import os\n",
    "import sys\n",
    "import gc\n",
    "from sklearn.manifold import TSNE\n",
    "from importlib import reload\n",
    "from sklearn.model_selection import train_test_split\n",
    "from sklearn.metrics import roc_auc_score\n",
    "from sklearn import linear_model\n",
    "from sklearn.metrics import confusion_matrix\n",
    "import scipy \n",
    "\n",
    "import matplotlib\n",
    "import matplotlib.pyplot as plt\n",
    "import seaborn as sns\n",
    "\n",
    "import utils\n",
    "reload(utils)"
   ]
  },
  {
   "cell_type": "code",
   "execution_count": 2,
   "metadata": {},
   "outputs": [],
   "source": [
    "matplotlib.rcParams['figure.dpi'] = 200\n",
    "plt.style.use('seaborn-deep')"
   ]
  },
  {
   "cell_type": "code",
   "execution_count": 7,
   "metadata": {},
   "outputs": [
    {
     "output_type": "stream",
     "name": "stdout",
     "text": [
      "(5013, 3881)\n"
     ]
    },
    {
     "output_type": "execute_result",
     "data": {
      "text/plain": [
       "   Abseiling_label  Adaptation_label  Adventure_label  \\\n",
       "0                0                 0                0   \n",
       "1                0                 0                0   \n",
       "2                0                 0                0   \n",
       "3                0                 0                0   \n",
       "4                0                 0                0   \n",
       "\n",
       "   Aerial_photography_label  Amusement_park_label  Amusement_ride_label  \\\n",
       "0                         0                     0                     0   \n",
       "1                         0                     0                     0   \n",
       "2                         0                     0                     0   \n",
       "3                         0                     0                     0   \n",
       "4                         0                     0                     0   \n",
       "\n",
       "   Ancient_rome_label  Antique_label  Apartment_label  Arcade_label  ...  \\\n",
       "0                   0              0                0             0  ...   \n",
       "1                   0              0                0             0  ...   \n",
       "2                   0              0                0             0  ...   \n",
       "3                   0              0                0             0  ...   \n",
       "4                   0              0                0             0  ...   \n",
       "\n",
       "   blue_eig_991  blue_eig_992  blue_eig_993  blue_eig_994  blue_eig_995  \\\n",
       "0      2.869129      2.537908      2.063795      2.020026      1.771241   \n",
       "1      3.470981      3.009629      2.361901      1.923912      1.751543   \n",
       "2      3.291750      2.898913      2.588453      2.412453      1.951029   \n",
       "3      3.410401      3.115535      2.783957      2.237531      1.509916   \n",
       "4      3.243908      3.191757      2.773401      2.312393      1.647995   \n",
       "\n",
       "   blue_eig_996  blue_eig_997  blue_eig_998  blue_eig_999  blue_eig_1000  \n",
       "0      1.563943      0.896316      0.494682      0.211528       0.044257  \n",
       "1      1.265105      1.083160      0.749636      0.654097       0.226061  \n",
       "2      1.512802      1.440446      0.998019      0.539556       0.048014  \n",
       "3      1.329670      1.128742      0.854100      0.407354       0.213916  \n",
       "4      1.508362      0.994718      0.816073      0.257799       0.050827  \n",
       "\n",
       "[5 rows x 3881 columns]"
      ],
      "text/html": "<div>\n<style scoped>\n    .dataframe tbody tr th:only-of-type {\n        vertical-align: middle;\n    }\n\n    .dataframe tbody tr th {\n        vertical-align: top;\n    }\n\n    .dataframe thead th {\n        text-align: right;\n    }\n</style>\n<table border=\"1\" class=\"dataframe\">\n  <thead>\n    <tr style=\"text-align: right;\">\n      <th></th>\n      <th>Abseiling_label</th>\n      <th>Adaptation_label</th>\n      <th>Adventure_label</th>\n      <th>Aerial_photography_label</th>\n      <th>Amusement_park_label</th>\n      <th>Amusement_ride_label</th>\n      <th>Ancient_rome_label</th>\n      <th>Antique_label</th>\n      <th>Apartment_label</th>\n      <th>Arcade_label</th>\n      <th>...</th>\n      <th>blue_eig_991</th>\n      <th>blue_eig_992</th>\n      <th>blue_eig_993</th>\n      <th>blue_eig_994</th>\n      <th>blue_eig_995</th>\n      <th>blue_eig_996</th>\n      <th>blue_eig_997</th>\n      <th>blue_eig_998</th>\n      <th>blue_eig_999</th>\n      <th>blue_eig_1000</th>\n    </tr>\n  </thead>\n  <tbody>\n    <tr>\n      <th>0</th>\n      <td>0</td>\n      <td>0</td>\n      <td>0</td>\n      <td>0</td>\n      <td>0</td>\n      <td>0</td>\n      <td>0</td>\n      <td>0</td>\n      <td>0</td>\n      <td>0</td>\n      <td>...</td>\n      <td>2.869129</td>\n      <td>2.537908</td>\n      <td>2.063795</td>\n      <td>2.020026</td>\n      <td>1.771241</td>\n      <td>1.563943</td>\n      <td>0.896316</td>\n      <td>0.494682</td>\n      <td>0.211528</td>\n      <td>0.044257</td>\n    </tr>\n    <tr>\n      <th>1</th>\n      <td>0</td>\n      <td>0</td>\n      <td>0</td>\n      <td>0</td>\n      <td>0</td>\n      <td>0</td>\n      <td>0</td>\n      <td>0</td>\n      <td>0</td>\n      <td>0</td>\n      <td>...</td>\n      <td>3.470981</td>\n      <td>3.009629</td>\n      <td>2.361901</td>\n      <td>1.923912</td>\n      <td>1.751543</td>\n      <td>1.265105</td>\n      <td>1.083160</td>\n      <td>0.749636</td>\n      <td>0.654097</td>\n      <td>0.226061</td>\n    </tr>\n    <tr>\n      <th>2</th>\n      <td>0</td>\n      <td>0</td>\n      <td>0</td>\n      <td>0</td>\n      <td>0</td>\n      <td>0</td>\n      <td>0</td>\n      <td>0</td>\n      <td>0</td>\n      <td>0</td>\n      <td>...</td>\n      <td>3.291750</td>\n      <td>2.898913</td>\n      <td>2.588453</td>\n      <td>2.412453</td>\n      <td>1.951029</td>\n      <td>1.512802</td>\n      <td>1.440446</td>\n      <td>0.998019</td>\n      <td>0.539556</td>\n      <td>0.048014</td>\n    </tr>\n    <tr>\n      <th>3</th>\n      <td>0</td>\n      <td>0</td>\n      <td>0</td>\n      <td>0</td>\n      <td>0</td>\n      <td>0</td>\n      <td>0</td>\n      <td>0</td>\n      <td>0</td>\n      <td>0</td>\n      <td>...</td>\n      <td>3.410401</td>\n      <td>3.115535</td>\n      <td>2.783957</td>\n      <td>2.237531</td>\n      <td>1.509916</td>\n      <td>1.329670</td>\n      <td>1.128742</td>\n      <td>0.854100</td>\n      <td>0.407354</td>\n      <td>0.213916</td>\n    </tr>\n    <tr>\n      <th>4</th>\n      <td>0</td>\n      <td>0</td>\n      <td>0</td>\n      <td>0</td>\n      <td>0</td>\n      <td>0</td>\n      <td>0</td>\n      <td>0</td>\n      <td>0</td>\n      <td>0</td>\n      <td>...</td>\n      <td>3.243908</td>\n      <td>3.191757</td>\n      <td>2.773401</td>\n      <td>2.312393</td>\n      <td>1.647995</td>\n      <td>1.508362</td>\n      <td>0.994718</td>\n      <td>0.816073</td>\n      <td>0.257799</td>\n      <td>0.050827</td>\n    </tr>\n  </tbody>\n</table>\n<p>5 rows × 3881 columns</p>\n</div>"
     },
     "metadata": {},
     "execution_count": 7
    }
   ],
   "source": [
    "DATA_PATH = \"../cleaned_data/clean_data.csv\"\n",
    "data_df = pd.read_csv(DATA_PATH)\n",
    "data_df['TRACT'] = data_df['TRACT'].astype(str)\n",
    "print(data_df.shape)\n",
    "data_df.head()"
   ]
  },
  {
   "cell_type": "code",
   "execution_count": 8,
   "metadata": {},
   "outputs": [
    {
     "output_type": "stream",
     "name": "stdout",
     "text": [
      "(27210, 63)\nAnn Arbor tracts: (33, 63)\n"
     ]
    },
    {
     "output_type": "execute_result",
     "data": {
      "text/plain": [
       "      StateAbbr  PlaceName  PlaceFIPS    TractFIPS        Place_TractID  \\\n",
       "13525        MI  Ann Arbor    2603000  26161400100  2603000-26161400100   \n",
       "13526        MI  Ann Arbor    2603000  26161400200  2603000-26161400200   \n",
       "13527        MI  Ann Arbor    2603000  26161400300  2603000-26161400300   \n",
       "13528        MI  Ann Arbor    2603000  26161400400  2603000-26161400400   \n",
       "13529        MI  Ann Arbor    2603000  26161400500  2603000-26161400500   \n",
       "\n",
       "       population_count  ACCESS2_CrudePrev ACCESS2_Crude95CI  \\\n",
       "13525              1755               12.8      (10.2, 16.6)   \n",
       "13526              7098               14.1      (11.8, 16.2)   \n",
       "13527              6222               19.1      (14.6, 26.1)   \n",
       "13528              3045                7.4      ( 6.2,  9.0)   \n",
       "13529              6088               18.8      (13.1, 25.7)   \n",
       "\n",
       "       ARTHRITIS_CrudePrev ARTHRITIS_Crude95CI  ...  PHLTH_CrudePrev  \\\n",
       "13525                 11.3        (10.6, 11.9)  ...              7.9   \n",
       "13526                  4.3        ( 3.8,  4.7)  ...              6.1   \n",
       "13527                  6.5        ( 5.6,  7.3)  ...              8.8   \n",
       "13528                 19.2        (18.2, 20.3)  ...              8.4   \n",
       "13529                  7.3        ( 6.5,  8.2)  ...              9.2   \n",
       "\n",
       "      PHLTH_Crude95CI  SLEEP_CrudePrev SLEEP_Crude95CI  STROKE_CrudePrev  \\\n",
       "13525    ( 6.8,  9.1)             32.9    (30.1, 35.4)               1.5   \n",
       "13526    ( 5.2,  6.7)             31.3    (28.7, 33.3)               0.4   \n",
       "13527    ( 7.0, 10.9)             33.9    (29.6, 37.2)               0.9   \n",
       "13528    ( 7.5,  9.3)             29.0    (27.2, 30.9)               1.9   \n",
       "13529    ( 7.1, 11.4)             33.5    (29.3, 36.8)               1.0   \n",
       "\n",
       "      STROKE_Crude95CI  TEETHLOST_CrudePrev TEETHLOST_Crude95CI  \\\n",
       "13525     ( 1.4,  1.7)                 14.2        (10.1, 19.2)   \n",
       "13526     ( 0.4,  0.5)                 11.9        ( 8.7, 14.6)   \n",
       "13527     ( 0.7,  1.0)                 20.3        (15.7, 25.9)   \n",
       "13528     ( 1.7,  2.1)                  7.3        ( 5.0,  9.9)   \n",
       "13529     ( 0.8,  1.1)                 19.7        (15.0, 25.7)   \n",
       "\n",
       "                            Geolocation   TRACT  \n",
       "13525  (42.28010295770, -83.7462540302)  400100  \n",
       "13526  (42.28154505960, -83.7324117791)  400200  \n",
       "13527  (42.27454257450, -83.7303535678)  400300  \n",
       "13528  (42.26482251930, -83.7310920606)  400400  \n",
       "13529  (42.27079011250, -83.7420214807)  400500  \n",
       "\n",
       "[5 rows x 64 columns]"
      ],
      "text/html": "<div>\n<style scoped>\n    .dataframe tbody tr th:only-of-type {\n        vertical-align: middle;\n    }\n\n    .dataframe tbody tr th {\n        vertical-align: top;\n    }\n\n    .dataframe thead th {\n        text-align: right;\n    }\n</style>\n<table border=\"1\" class=\"dataframe\">\n  <thead>\n    <tr style=\"text-align: right;\">\n      <th></th>\n      <th>StateAbbr</th>\n      <th>PlaceName</th>\n      <th>PlaceFIPS</th>\n      <th>TractFIPS</th>\n      <th>Place_TractID</th>\n      <th>population_count</th>\n      <th>ACCESS2_CrudePrev</th>\n      <th>ACCESS2_Crude95CI</th>\n      <th>ARTHRITIS_CrudePrev</th>\n      <th>ARTHRITIS_Crude95CI</th>\n      <th>...</th>\n      <th>PHLTH_CrudePrev</th>\n      <th>PHLTH_Crude95CI</th>\n      <th>SLEEP_CrudePrev</th>\n      <th>SLEEP_Crude95CI</th>\n      <th>STROKE_CrudePrev</th>\n      <th>STROKE_Crude95CI</th>\n      <th>TEETHLOST_CrudePrev</th>\n      <th>TEETHLOST_Crude95CI</th>\n      <th>Geolocation</th>\n      <th>TRACT</th>\n    </tr>\n  </thead>\n  <tbody>\n    <tr>\n      <th>13525</th>\n      <td>MI</td>\n      <td>Ann Arbor</td>\n      <td>2603000</td>\n      <td>26161400100</td>\n      <td>2603000-26161400100</td>\n      <td>1755</td>\n      <td>12.8</td>\n      <td>(10.2, 16.6)</td>\n      <td>11.3</td>\n      <td>(10.6, 11.9)</td>\n      <td>...</td>\n      <td>7.9</td>\n      <td>( 6.8,  9.1)</td>\n      <td>32.9</td>\n      <td>(30.1, 35.4)</td>\n      <td>1.5</td>\n      <td>( 1.4,  1.7)</td>\n      <td>14.2</td>\n      <td>(10.1, 19.2)</td>\n      <td>(42.28010295770, -83.7462540302)</td>\n      <td>400100</td>\n    </tr>\n    <tr>\n      <th>13526</th>\n      <td>MI</td>\n      <td>Ann Arbor</td>\n      <td>2603000</td>\n      <td>26161400200</td>\n      <td>2603000-26161400200</td>\n      <td>7098</td>\n      <td>14.1</td>\n      <td>(11.8, 16.2)</td>\n      <td>4.3</td>\n      <td>( 3.8,  4.7)</td>\n      <td>...</td>\n      <td>6.1</td>\n      <td>( 5.2,  6.7)</td>\n      <td>31.3</td>\n      <td>(28.7, 33.3)</td>\n      <td>0.4</td>\n      <td>( 0.4,  0.5)</td>\n      <td>11.9</td>\n      <td>( 8.7, 14.6)</td>\n      <td>(42.28154505960, -83.7324117791)</td>\n      <td>400200</td>\n    </tr>\n    <tr>\n      <th>13527</th>\n      <td>MI</td>\n      <td>Ann Arbor</td>\n      <td>2603000</td>\n      <td>26161400300</td>\n      <td>2603000-26161400300</td>\n      <td>6222</td>\n      <td>19.1</td>\n      <td>(14.6, 26.1)</td>\n      <td>6.5</td>\n      <td>( 5.6,  7.3)</td>\n      <td>...</td>\n      <td>8.8</td>\n      <td>( 7.0, 10.9)</td>\n      <td>33.9</td>\n      <td>(29.6, 37.2)</td>\n      <td>0.9</td>\n      <td>( 0.7,  1.0)</td>\n      <td>20.3</td>\n      <td>(15.7, 25.9)</td>\n      <td>(42.27454257450, -83.7303535678)</td>\n      <td>400300</td>\n    </tr>\n    <tr>\n      <th>13528</th>\n      <td>MI</td>\n      <td>Ann Arbor</td>\n      <td>2603000</td>\n      <td>26161400400</td>\n      <td>2603000-26161400400</td>\n      <td>3045</td>\n      <td>7.4</td>\n      <td>( 6.2,  9.0)</td>\n      <td>19.2</td>\n      <td>(18.2, 20.3)</td>\n      <td>...</td>\n      <td>8.4</td>\n      <td>( 7.5,  9.3)</td>\n      <td>29.0</td>\n      <td>(27.2, 30.9)</td>\n      <td>1.9</td>\n      <td>( 1.7,  2.1)</td>\n      <td>7.3</td>\n      <td>( 5.0,  9.9)</td>\n      <td>(42.26482251930, -83.7310920606)</td>\n      <td>400400</td>\n    </tr>\n    <tr>\n      <th>13529</th>\n      <td>MI</td>\n      <td>Ann Arbor</td>\n      <td>2603000</td>\n      <td>26161400500</td>\n      <td>2603000-26161400500</td>\n      <td>6088</td>\n      <td>18.8</td>\n      <td>(13.1, 25.7)</td>\n      <td>7.3</td>\n      <td>( 6.5,  8.2)</td>\n      <td>...</td>\n      <td>9.2</td>\n      <td>( 7.1, 11.4)</td>\n      <td>33.5</td>\n      <td>(29.3, 36.8)</td>\n      <td>1.0</td>\n      <td>( 0.8,  1.1)</td>\n      <td>19.7</td>\n      <td>(15.0, 25.7)</td>\n      <td>(42.27079011250, -83.7420214807)</td>\n      <td>400500</td>\n    </tr>\n  </tbody>\n</table>\n<p>5 rows × 64 columns</p>\n</div>"
     },
     "metadata": {},
     "execution_count": 8
    }
   ],
   "source": [
    "CITIES_PATH = \"../demographic_data/Ann_Arbor_500_Cities.csv\"\n",
    "cities_df = pd.read_csv(CITIES_PATH)\n",
    "print(cities_df.shape)\n",
    "cities_df = cities_df[cities_df['PlaceName'] == 'Ann Arbor']\n",
    "print(f\"Ann Arbor tracts: {cities_df.shape}\")\n",
    "cities_df['TRACT'] = cities_df['TractFIPS'].astype(str).str[-6:]\n",
    "cities_df.head()"
   ]
  },
  {
   "cell_type": "code",
   "execution_count": 11,
   "metadata": {},
   "outputs": [
    {
     "output_type": "stream",
     "name": "stdout",
     "text": [
      "(208, 3881)\n(208, 3944)\n"
     ]
    }
   ],
   "source": [
    "\"\"\"\n",
    "filter the images to Ann Arbor\n",
    "\"\"\"\n",
    "data_df = data_df[data_df['TRACT'].isin(cities_df['TRACT'])]\n",
    "print(data_df.shape)\n",
    "\n",
    "CITIES_COLS = cities_df.columns.to_list()\n",
    "data_df = pd.merge(data_df, cities_df, on='TRACT', how='left')\n",
    "print(data_df.shape)"
   ]
  },
  {
   "cell_type": "code",
   "execution_count": 14,
   "metadata": {},
   "outputs": [
    {
     "output_type": "stream",
     "name": "stdout",
     "text": [
      "Number of Distinct Labels: 326\nNumber of Distinct Labels in curated list: 99\nNumber prevalence columns: 28\n"
     ]
    }
   ],
   "source": [
    "\"\"\"\n",
    "a list of crude prevalences\n",
    "\"\"\"\n",
    "ALL_LABEL_COLS = [x for x in data_df.columns if 'label' in x]\n",
    "print(f\"Number of Distinct Labels: {len(ALL_LABEL_COLS)}\")\n",
    "\n",
    "MANUAL_LABELS = [x.strip() for x in open(\"../image_data/manual_labels.txt\")]\n",
    "print(f\"Number of Distinct Labels in curated list: {len(MANUAL_LABELS)}\")\n",
    "\n",
    "PREVALENCE = [x for x in CITIES_COLS if 'CrudePrev' in x]\n",
    "print(f\"Number prevalence columns: {len(PREVALENCE)}\")\n",
    "\n",
    "REDS = [x for x in data_df.columns if 'red_eig' in x]\n",
    "BLUES = [x for x in data_df.columns if 'blue_eig' in x]\n",
    "GREENS = [x for x in data_df.columns if 'green_eig' in x]"
   ]
  },
  {
   "cell_type": "code",
   "execution_count": 15,
   "metadata": {},
   "outputs": [
    {
     "output_type": "execute_result",
     "data": {
      "text/plain": [
       "['ACCESS2_CrudePrev',\n",
       " 'ARTHRITIS_CrudePrev',\n",
       " 'BINGE_CrudePrev',\n",
       " 'BPHIGH_CrudePrev',\n",
       " 'BPMED_CrudePrev',\n",
       " 'CANCER_CrudePrev',\n",
       " 'CASTHMA_CrudePrev',\n",
       " 'CHD_CrudePrev',\n",
       " 'CHECKUP_CrudePrev',\n",
       " 'CHOLSCREEN_CrudePrev',\n",
       " 'COLON_SCREEN_CrudePrev',\n",
       " 'COPD_CrudePrev',\n",
       " 'COREM_CrudePrev',\n",
       " 'COREW_CrudePrev',\n",
       " 'CSMOKING_CrudePrev',\n",
       " 'DENTAL_CrudePrev',\n",
       " 'DIABETES_CrudePrev',\n",
       " 'HIGHCHOL_CrudePrev',\n",
       " 'KIDNEY_CrudePrev',\n",
       " 'LPA_CrudePrev',\n",
       " 'MAMMOUSE_CrudePrev',\n",
       " 'MHLTH_CrudePrev',\n",
       " 'OBESITY_CrudePrev',\n",
       " 'PAPTEST_CrudePrev',\n",
       " 'PHLTH_CrudePrev',\n",
       " 'SLEEP_CrudePrev',\n",
       " 'STROKE_CrudePrev',\n",
       " 'TEETHLOST_CrudePrev']"
      ]
     },
     "metadata": {},
     "execution_count": 15
    }
   ],
   "source": [
    "PREVALENCE"
   ]
  },
  {
   "cell_type": "code",
   "execution_count": 20,
   "metadata": {},
   "outputs": [],
   "source": [
    "# \"\"\"\n",
    "# Let's do tttest for each label \n",
    "# \"\"\"\n",
    "\n",
    "# NAN_POLICY = 'omit'\n",
    "\n",
    "# for prev in PREVALENCE:\n",
    "#     TARGET_COL = prev\n",
    "#     new_rows = []\n",
    "#     for col in MANUAL_LABELS:\n",
    "\n",
    "#         labeled = tmp[tmp[col] == 1]\n",
    "#         unlabeled = tmp[tmp[col] == 0]\n",
    "\n",
    "#         T, pval = scipy.stats.ttest_ind(labeled[TARGET_COL], \n",
    "#                             unlabeled[TARGET_COL], \n",
    "#                             nan_policy=NAN_POLICY)\n",
    "\n",
    "#         row = {\n",
    "#             'Label':col,\n",
    "#             'N_labeled':len(labeled),\n",
    "#             'N_unlabeled':len(unlabeled),\n",
    "#             'Labeled_mean':labeled[TARGET_COL].mean(),\n",
    "#             'Unabeled_mean':unlabeled[TARGET_COL].mean(),\n",
    "#             'T-Obs':T,\n",
    "#             'p-Value':pval,\n",
    "#             'Bonferroni_Alpha': 1 - (1 - 0.05)**0.5\n",
    "#         }\n",
    "\n",
    "#         new_rows.append(row)\n",
    "\n",
    "#     res = pd.DataFrame(new_rows)\n",
    "#     res['Reject'] = np.where(res['p-Value'] <= res['Bonferroni_Alpha'], 'True', 'False' )\n",
    "\n",
    "\n",
    "#     TITLE = f'Significant Differences in {TARGET_COL} by Google Label'\n",
    "\n",
    "#     sigs = res[res['Reject'] == 'True']\n",
    "#     sigs.set_index('Label', inplace=True)\n",
    "#     sigs = sigs[['Labeled_mean', 'Unabeled_mean']]\n",
    "#     sigs.plot(kind='barh', edgecolor='black', figsize=(8, 12), title=TITLE)\n",
    "#     plt.grid()\n",
    "#     plt.xlabel(f'{TARGET_COL}', fontsize=8)\n",
    "#     plt.gca().invert_yaxis()\n",
    "#     save_filepath = f\"../figures/{TITLE}.png\"\n",
    "#     plt.savefig(save_filepath,  bbox_inches = 'tight')\n"
   ]
  },
  {
   "cell_type": "code",
   "execution_count": null,
   "metadata": {},
   "outputs": [],
   "source": []
  }
 ]
}