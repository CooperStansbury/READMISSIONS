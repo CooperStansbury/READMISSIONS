{
 "metadata": {
  "language_info": {
   "codemirror_mode": {
    "name": "ipython",
    "version": 3
   },
   "file_extension": ".py",
   "mimetype": "text/x-python",
   "name": "python",
   "nbconvert_exporter": "python",
   "pygments_lexer": "ipython3",
   "version": "3.7.8-final"
  },
  "orig_nbformat": 2,
  "kernelspec": {
   "name": "python3",
   "display_name": "Python 3"
  }
 },
 "nbformat": 4,
 "nbformat_minor": 2,
 "cells": [
  {
   "cell_type": "code",
   "execution_count": 101,
   "metadata": {},
   "outputs": [
    {
     "output_type": "execute_result",
     "data": {
      "text/plain": [
       "<module 'utils' from '/Users/milk/Desktop/git_repositories/READMISSIONS/washtenaw_case_study/notebooks/utils.py'>"
      ]
     },
     "metadata": {},
     "execution_count": 101
    }
   ],
   "source": [
    "import pandas as pd\n",
    "import numpy as np\n",
    "import os\n",
    "import sys\n",
    "import gc\n",
    "from sklearn.manifold import TSNE\n",
    "from importlib import reload\n",
    "from sklearn.model_selection import train_test_split\n",
    "from sklearn.metrics import roc_auc_score\n",
    "from sklearn import linear_model\n",
    "from sklearn.metrics import confusion_matrix\n",
    "import scipy \n",
    "\n",
    "\n",
    "import matplotlib\n",
    "import matplotlib.pyplot as plt\n",
    "import seaborn as sns\n",
    "\n",
    "import utils\n",
    "reload(utils)"
   ]
  },
  {
   "cell_type": "code",
   "execution_count": 102,
   "metadata": {},
   "outputs": [],
   "source": [
    "matplotlib.rcParams['figure.dpi'] = 200\n",
    "plt.style.use('seaborn-deep')"
   ]
  },
  {
   "cell_type": "code",
   "execution_count": 103,
   "metadata": {},
   "outputs": [],
   "source": [
    "\"\"\"\n",
    "file paths\n",
    "\"\"\"\n",
    "\n",
    "GOOGLE_PATH = \"../image_data/google_features.csv\"\n",
    "EIGEN_PATH = \"../image_data/eigen_features.csv\"\n",
    "POPULATION_PATH = \"../demographic_data/Population_Data_2015.csv\"\n",
    "EDUCATION_PATH = \"../demographic_data/Education_Data_2015.csv\"\n",
    "INCOME_PATH = \"../demographic_data/Income_Data_2015.csv\"\n",
    "OCCUPATION_PATH = \"../demographic_data/Occupation_Data_2015.csv\"\n",
    "AA_500_CITIES_PATH = \"../demographic_data/demographic_data/Ann_Arbor_500_Cities.csv\""
   ]
  },
  {
   "source": [
    "# Google Features and Demographics"
   ],
   "cell_type": "markdown",
   "metadata": {}
  },
  {
   "cell_type": "code",
   "execution_count": 104,
   "metadata": {},
   "outputs": [
    {
     "output_type": "stream",
     "name": "stdout",
     "text": [
      "pop_df.shape (2813, 343)\n",
      "\n",
      "edu_df.shape (1416, 775)\n",
      "\n",
      "inc_df.shape (1416, 127)\n",
      "\n",
      "occ_df.shape (1416, 367)\n",
      "\n"
     ]
    }
   ],
   "source": [
    "# \"\"\"\n",
    "# Load demographics paths anf filter by county\n",
    "# \"\"\"\n",
    "\n",
    "pop_df = pd.read_csv(POPULATION_PATH)\n",
    "# save short names and drop first row\n",
    "POP_COLNAMES = pop_df.iloc[0].to_dict()\n",
    "pop_df = pop_df.iloc[1:].reset_index()\n",
    "pop_df[['Census Tract', 'County', 'State']] = pop_df['NAME'].str.split(',',expand=True)\n",
    "pop_df['GEOID'] = pop_df['GEO_ID'].str.replace(\"1400000US\", \"\").astype(int)\n",
    "print(f\"pop_df.shape {pop_df.shape}\")\n",
    "print()\n",
    "\n",
    "\n",
    "edu_df = pd.read_csv(EDUCATION_PATH)\n",
    "# save short names and drop first row\n",
    "EDU_COLNAMES = edu_df.iloc[0].to_dict()\n",
    "edu_df = edu_df.iloc[1:].reset_index()\n",
    "edu_df[['Census Tract', 'County', 'State']] = edu_df['NAME'].str.split(',',expand=True)\n",
    "edu_df['GEOID'] = edu_df['GEO_ID'].str.replace(\"1400000US\", \"\").astype(int)\n",
    "print(f\"edu_df.shape {edu_df.shape}\")\n",
    "print()\n",
    "\n",
    "\n",
    "inc_df = pd.read_csv(INCOME_PATH)\n",
    "# save short names and drop first row\n",
    "INC_COLNAMES = inc_df.iloc[0].to_dict()\n",
    "inc_df = inc_df.iloc[1:].reset_index()\n",
    "inc_df[['Census Tract', 'County', 'State']] = inc_df['NAME'].str.split(',',expand=True)\n",
    "inc_df['GEOID'] = inc_df['GEO_ID'].str.replace(\"1400000US\", \"\").astype(int)\n",
    "print(f\"inc_df.shape {inc_df.shape}\")\n",
    "print()\n",
    "\n",
    "occ_df = pd.read_csv(OCCUPATION_PATH)\n",
    "OCC_COLNAMES = occ_df.iloc[0].to_dict()\n",
    "occ_df = occ_df.iloc[1:].reset_index()\n",
    "occ_df[['Census Tract', 'County', 'State']] = occ_df['NAME'].str.split(',',expand=True)\n",
    "occ_df['GEOID'] = occ_df['GEO_ID'].str.replace(\"1400000US\", \"\").astype(int)\n",
    "print(f\"occ_df.shape {occ_df.shape}\")\n",
    "print()"
   ]
  },
  {
   "cell_type": "code",
   "execution_count": 105,
   "metadata": {},
   "outputs": [
    {
     "output_type": "stream",
     "name": "stdout",
     "text": [
      "data_df.shape: (5964, 729)\n",
      "data_df.shape: (5964, 1071)\n",
      "data_df.shape: (5964, 1845)\n",
      "data_df.shape: (5964, 1971)\n",
      "data_df.shape: (5964, 2337)\n",
      "CPU times: user 716 ms, sys: 181 ms, total: 897 ms\n",
      "Wall time: 926 ms\n"
     ]
    }
   ],
   "source": [
    "%%time\n",
    "\"\"\"\n",
    "load google features and merge demographics\n",
    "\"\"\"\n",
    "data_df = pd.read_csv(GOOGLE_PATH)\n",
    "data_df['GEOID'] = data_df['GEOID'].astype(int)\n",
    "print(f\"data_df.shape: {data_df.shape}\")\n",
    "\n",
    "data_df = pd.merge(data_df, pop_df, how='left', on='GEOID', suffixes=[None, \"_pop\"])\n",
    "print(f\"data_df.shape: {data_df.shape}\")\n",
    "\n",
    "data_df = pd.merge(data_df, edu_df, how='left', on='GEOID', suffixes=[None, \"_edu\"])\n",
    "print(f\"data_df.shape: {data_df.shape}\")\n",
    "\n",
    "data_df = pd.merge(data_df, inc_df, how='left', on='GEOID', suffixes=[None, \"_inc\"])\n",
    "print(f\"data_df.shape: {data_df.shape}\")\n",
    "\n",
    "data_df = pd.merge(data_df, occ_df, how='left', on='GEOID', suffixes=[None, \"_occ\"])\n",
    "print(f\"data_df.shape: {data_df.shape}\")"
   ]
  },
  {
   "cell_type": "code",
   "execution_count": 106,
   "metadata": {},
   "outputs": [
    {
     "output_type": "stream",
     "name": "stdout",
     "text": [
      "WARNING! Dropping non-Washtenaw county images\n",
      "data_df.shape: (5013, 2337)\n"
     ]
    }
   ],
   "source": [
    "\"\"\"\n",
    "drop other counties\n",
    "\"\"\"\n",
    "\n",
    "print(f\"WARNING! Dropping non-Washtenaw county images\")\n",
    "data_df = data_df[data_df['County'] == ' Washtenaw County']\n",
    "print(f\"data_df.shape: {data_df.shape}\")\n"
   ]
  },
  {
   "cell_type": "code",
   "execution_count": 107,
   "metadata": {},
   "outputs": [
    {
     "output_type": "stream",
     "name": "stdout",
     "text": [
      "(5964, 3001)\n",
      "(5013, 5338)\n",
      "CPU times: user 4.59 s, sys: 499 ms, total: 5.09 s\n",
      "Wall time: 5.24 s\n"
     ]
    }
   ],
   "source": [
    "%%time\n",
    "\"\"\"\n",
    "load eigen features\n",
    "\"\"\"\n",
    "eig_df = pd.read_csv(EIGEN_PATH)\n",
    "print(eig_df.shape)\n",
    "\n",
    "data_df = pd.merge(data_df, eig_df, left_on='image_index', right_on='tile_index', how='left')\n",
    "print(data_df.shape)"
   ]
  },
  {
   "cell_type": "code",
   "execution_count": 108,
   "metadata": {},
   "outputs": [
    {
     "output_type": "stream",
     "name": "stdout",
     "text": [
      "done\n"
     ]
    }
   ],
   "source": [
    "data_df.to_csv(\"../cleaned_data/clean_data.csv\", index=False)\n",
    "print(\"done\")"
   ]
  },
  {
   "cell_type": "code",
   "execution_count": 109,
   "metadata": {},
   "outputs": [],
   "source": [
    "colmaps = {\n",
    "    'education' : EDU_COLNAMES, \n",
    "    'income' : INC_COLNAMES, \n",
    "    'occuptation' : OCC_COLNAMES,\n",
    "    'population' : POP_COLNAMES\n",
    "    }\n",
    "\n",
    "for name, colmap in colmaps.items():\n",
    "    colmap_df = pd.DataFrame(colmap.items())\n",
    "    new_header = colmap_df.iloc[0] \n",
    "    colmap_df = colmap_df[1:] \n",
    "    colmap_df.columns = new_header \n",
    "    f_name = f\"../cleaned_data/{name}_column_map.csv\"\n",
    "    colmap_df.to_csv(f_name, index=False)"
   ]
  },
  {
   "cell_type": "code",
   "execution_count": null,
   "metadata": {},
   "outputs": [],
   "source": []
  },
  {
   "cell_type": "code",
   "execution_count": 83,
   "metadata": {},
   "outputs": [],
   "source": [
    "# ALL_LABEL_COLS = [x for x in data_df.columns if 'label' in x]\n",
    "# print(f\"Number of Distinct Labels: {len(ALL_LABEL_COLS)}\")\n",
    "\n",
    "# MANUAL_LABELS = [x.strip() for x in open(\"../image_data/manual_labels.txt\")]\n",
    "# print(f\"Number of Distinct Labels in curated list: {len(MANUAL_LABELS)}\")"
   ]
  },
  {
   "cell_type": "code",
   "execution_count": 82,
   "metadata": {},
   "outputs": [],
   "source": [
    "# REDS = [x for x in data_df.columns if 'red_eig' in x]\n",
    "# BLUES = [x for x in data_df.columns if 'blue_eig' in x]\n",
    "# GREENS = [x for x in data_df.columns if 'green_eig' in x]"
   ]
  },
  {
   "cell_type": "code",
   "execution_count": 71,
   "metadata": {},
   "outputs": [],
   "source": [
    "# eigen_cols_df = pd.DataFrame([REDS, GREENS, BLUES]).T\n",
    "# eigen_cols_df.columns = ['Red_Columns', 'Green_Columns', 'Blue_Columns']\n",
    "# f_name = f\"../cleaned_data/eigenvalue_column_map.csv\"\n",
    "# eigen_cols_df.to_csv(f_name, index=False)"
   ]
  },
  {
   "cell_type": "code",
   "execution_count": 81,
   "metadata": {},
   "outputs": [],
   "source": [
    "# COLOR_R = []\n",
    "# COLOR_G = []\n",
    "# COLOR_B = []\n",
    "# COLOR_SCORES = []\n",
    "# COLOR_FRACTIONS = []\n",
    "\n",
    "# LABELS = []\n",
    "# LABEL_SCORES = []\n",
    "\n",
    "# for col in data_df.columns:\n",
    "#     if 'label' in col:\n",
    "#         LABELS.append(col)\n",
    "#     if 'score' in col and not 'COLOR' in col:\n",
    "#         LABEL_SCORES.append(col)\n",
    "#     if 'COLOR' in col and '_R' in col:\n",
    "#         COLOR_R.append(col)\n",
    "#     if 'COLOR' in col and '_G' in col:\n",
    "#         COLOR_G.append(col)\n",
    "#     if 'COLOR' in col and '_B' in col:\n",
    "#         COLOR_B.append(col)\n",
    "#     if 'COLOR' in col and 'score' in col:\n",
    "#         COLOR_SCORES.append(col)\n",
    "#     if 'COLOR' in col and 'fraction' in col:\n",
    "#         COLOR_FRACTIONS.append(col)\n",
    "\n",
    "\n",
    "# google_cols = pd.DataFrame([LABELS, LABEL_SCORES]).T\n",
    "# google_cols.columns = ['Label_columns', 'Label_score_columns']\n",
    "# google_cols.loc[:,'r_color_pixel_columns'] = pd.Series(COLOR_R)\n",
    "# google_cols.loc[:,'g_color_pixel_columns'] = pd.Series(COLOR_G)\n",
    "# google_cols.loc[:,'b_color_pixel_columns'] = pd.Series(COLOR_B)\n",
    "# google_cols.loc[:,'color_score_columns'] = pd.Series(COLOR_SCORES)\n",
    "# google_cols.loc[:,'color_fraction_columns'] = pd.Series(COLOR_FRACTIONS)\n",
    "\n",
    "# f_name = f\"../cleaned_data/google_column_map.csv\"\n",
    "# google_cols.to_csv(f_name, index=False)"
   ]
  },
  {
   "cell_type": "code",
   "execution_count": 87,
   "metadata": {},
   "outputs": [
    {
     "output_type": "stream",
     "name": "stdout",
     "text": [
      "(5013, 4996)\n"
     ]
    }
   ],
   "source": [
    "# data_df = pd.read_csv(\"../cleaned_data/clean_data.csv\")\n",
    "# print(data_df.shape)"
   ]
  },
  {
   "cell_type": "code",
   "execution_count": null,
   "metadata": {},
   "outputs": [],
   "source": []
  }
 ]
}