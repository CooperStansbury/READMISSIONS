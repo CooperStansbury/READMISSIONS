{
 "metadata": {
  "language_info": {
   "codemirror_mode": {
    "name": "ipython",
    "version": 3
   },
   "file_extension": ".py",
   "mimetype": "text/x-python",
   "name": "python",
   "nbconvert_exporter": "python",
   "pygments_lexer": "ipython3",
   "version": "3.7.6-final"
  },
  "orig_nbformat": 2,
  "kernelspec": {
   "name": "python3",
   "display_name": "Python 3"
  }
 },
 "nbformat": 4,
 "nbformat_minor": 2,
 "cells": [
  {
   "cell_type": "code",
   "execution_count": 6,
   "metadata": {},
   "outputs": [],
   "source": [
    "import numpy as np\n",
    "import pandas as pd\n",
    "import os\n",
    "from importlib import reload\n",
    "import time\n",
    "import matplotlib.pyplot as plt\n",
    "import gc\n",
    "import memory_profiler as mem_profile\n",
    "\n",
    "import tiling_util"
   ]
  },
  {
   "cell_type": "code",
   "execution_count": 7,
   "metadata": {
    "tags": []
   },
   "outputs": [],
   "source": [
    "%load_ext memory_profiler"
   ]
  },
  {
   "cell_type": "code",
   "execution_count": 8,
   "metadata": {
    "tags": []
   },
   "outputs": [
    {
     "output_type": "execute_result",
     "data": {
      "text/plain": "dict_keys(['Livingston', 'Macomb', 'Monroe', 'Oakland', 'StClair', 'Washtenaw', 'Wayne'])"
     },
     "metadata": {},
     "execution_count": 8
    }
   ],
   "source": [
    "\"\"\"\n",
    "Build a dictionary with pointers to the geotiff files. Create simple labels.\n",
    "\"\"\"\n",
    "\n",
    "DIRPATH = '/Volumes/Cooper_TB_Drive/research/readmissions/geotiff_files/'\n",
    "\n",
    "FULL_GEOTIFFS = {}\n",
    "\n",
    "for file in os.listdir(DIRPATH):\n",
    "    if 'TILED' in file:\n",
    "        file_label = file.split(\"_\")[1]\n",
    "        full_path = DIRPATH + file\n",
    "        \n",
    "        mbldr = tiling_util.MosiacBuilder(full_path, builder_name=file_label)\n",
    "\n",
    "        record = {\n",
    "            'full_path':full_path,\n",
    "            'builder':mbldr\n",
    "        }\n",
    "\n",
    "        FULL_GEOTIFFS[file_label] = record\n",
    "\n",
    "FULL_GEOTIFFS.keys()"
   ]
  },
  {
   "cell_type": "code",
   "execution_count": 9,
   "metadata": {
    "tags": []
   },
   "outputs": [
    {
     "output_type": "stream",
     "name": "stdout",
     "text": "County: Livingston\n\tfull shape: (68398, 69395)\n\tnormalized size: 22.2807\n\tprojection: EPSG:2898\n\nCounty: Macomb\n\tfull shape: (86667, 56544)\n\tnormalized size: 22.3126\n\tprojection: PROJCS[\"IMAGINE GeoTIFF Support\nERDAS IMAGINE 2015  15.0.0.72\nProjection = Lambert Conformal Conic\",GEOGCS[\"Ellipsoid_GEM_10C\",DATUM[\"Ellipsoid_GEM_10C\",SPHEROID[\"GEM 10C\",6378137,298.257222096042,AUTHORITY[\"EPSG\",\"7031\"]]],PRIMEM[\"Greenwich\",0],UNIT[\"degree\",0.0174532925199433,AUTHORITY[\"EPSG\",\"9122\"]]],PROJECTION[\"Lambert_Conformal_Conic_2SP\"],PARAMETER[\"latitude_of_origin\",41.5],PARAMETER[\"central_meridian\",-84.3666666666667],PARAMETER[\"standard_parallel_1\",42.1],PARAMETER[\"standard_parallel_2\",43.6666666666667],PARAMETER[\"false_easting\",43055641.6668389],PARAMETER[\"false_northing\",0],UNIT[\"foot\",0.3048,AUTHORITY[\"EPSG\",\"9002\"]],AXIS[\"Easting\",EAST],AXIS[\"Northing\",NORTH]]\n\nCounty: Monroe\n\tfull shape: (72065, 83622)\n\tnormalized size: 22.5194\n\tprojection: EPSG:2898\n\nCounty: Oakland\n\tfull shape: (88554, 85039)\n\tnormalized size: 22.7422\n\tprojection: EPSG:2898\n\nCounty: StClair\n\tfull shape: (121644, 80476)\n\tnormalized size: 23.0046\n\tprojection: EPSG:2898\n\nCounty: Washtenaw\n\tfull shape: (70033, 83394)\n\tnormalized size: 22.4881\n\tprojection: EPSG:2898\n\nCounty: Wayne\n\tfull shape: (161654, 189953)\n\tnormalized size: 24.1477\n\tprojection: EPSG:2898\n\n"
    }
   ],
   "source": [
    "for k, v in FULL_GEOTIFFS.items():\n",
    "\n",
    "    shp = v['builder'].shape\n",
    "    print(f\"County: {k}\")\n",
    "    print(f\"\\tfull shape: {shp}\")\n",
    "    print(f\"\\tnormalized size: {round(np.log(shp[0] * shp[1]), 4)}\")\n",
    "    print(f\"\\tprojection: {v['builder'].src.crs}\")\n",
    "    print()"
   ]
  },
  {
   "cell_type": "code",
   "execution_count": 10,
   "metadata": {
    "tags": []
   },
   "outputs": [],
   "source": [
    "# %%time\n",
    "# test = full_geotiffs['Livingston']['builder']\n",
    "# tiles, center_coords = test.build_mosaic()"
   ]
  },
  {
   "cell_type": "code",
   "execution_count": 11,
   "metadata": {
    "tags": []
   },
   "outputs": [],
   "source": [
    "# IDX_TEST = 69\n",
    "\n",
    "# tiles[IDX_TEST].shape\n",
    "# print(f'coords: {center_coords[IDX_TEST]}')\n",
    "# print(f'shape: {tiles[IDX_TEST].shape}')\n",
    "\n",
    "# fig = tiling_util.build_fig(size=(2,2), axis_off=True)\n",
    "# plt.imshow(np.moveaxis(tiles[IDX_TEST], 0, 2))"
   ]
  },
  {
   "cell_type": "code",
   "execution_count": 12,
   "metadata": {
    "tags": []
   },
   "outputs": [],
   "source": [
    "# dir(test.src)\n",
    "# # print(test.src.meta['transform'])\n",
    "# print(test.src.res)"
   ]
  },
  {
   "cell_type": "code",
   "execution_count": 13,
   "metadata": {},
   "outputs": [],
   "source": [
    "# tmp = np.asarray(tiles)\n",
    "# tmp.shape"
   ]
  },
  {
   "cell_type": "code",
   "execution_count": 14,
   "metadata": {
    "tags": []
   },
   "outputs": [],
   "source": [
    "# \"\"\"\n",
    "# SHOULD NOT PRINT ANYTHING\n",
    "# \"\"\"\n",
    "\n",
    "# reload(tiling_util)\n",
    "# tiles[0].shape\n",
    "\n",
    "# for i, tile in enumerate(tiles):\n",
    "#     if tile.shape != tiles[0].shape:\n",
    "#         print(i, np.max(tile), np.min(tile), tile.shape)"
   ]
  },
  {
   "cell_type": "code",
   "execution_count": 15,
   "metadata": {},
   "outputs": [],
   "source": [
    "# new_rows = []\n",
    "\n",
    "# for i, (lat, lon) in enumerate(center_coords):\n",
    "#     row = {\n",
    "#         'image_index':i,\n",
    "#         'latitiude':lat,\n",
    "#         'longitude':lon,\n",
    "#         'county': test.NAME,\n",
    "#         'window_size':test.MOSIAC_SIDE_LENGTH\n",
    "#     }\n",
    "#     new_rows.append(row)\n",
    "\n",
    "# test_coord_df = pd.DataFrame(new_rows)\n",
    "# test_coord_df.head()"
   ]
  },
  {
   "cell_type": "markdown",
   "metadata": {},
   "source": [
    "# Let's do the important ones"
   ]
  },
  {
   "cell_type": "code",
   "execution_count": 16,
   "metadata": {
    "tags": []
   },
   "outputs": [],
   "source": [
    "# %%memit\n",
    "\n",
    "# \"\"\"\n",
    "# create quilt and coordinate vector\n",
    "# \"\"\"\n",
    "\n",
    "# reload(tiling_util)\n",
    "\n",
    "# save_dir = '/Volumes/Cooper_TB_Drive/research/readmissions/tile_files/'\n",
    "\n",
    "# counties = ['Livingston', 'Monroe', 'Oakland', 'Washtenaw', 'Wayne']\n",
    "\n",
    "# county = counties[4]\n",
    "\n",
    "# gc.collect()\n",
    "# print('Memory (Before): ' + str(mem_profile.memory_usage()) + 'MB' )\n",
    "# print(f\"starting: {county}\")\n",
    "\n",
    "# ## build tiles \n",
    "# start_time = time.time()\n",
    "# builder = FULL_GEOTIFFS[county]['builder']\n",
    "# tiles, center_coords = builder.build_mosaic()\n",
    "# end_time = time.time() - start_time\n",
    "# print(f\"tiling {county} took: {end_time/60:.2f} minutes\")\n",
    "# print(f\"{county} has: {len(center_coords)} image tiles\")\n",
    "# print('Memory (After) : ' + str(mem_profile.memory_usage()) + 'MB')"
   ]
  },
  {
   "cell_type": "code",
   "execution_count": 17,
   "metadata": {},
   "outputs": [],
   "source": [
    "# \"\"\"\n",
    "# create disions\n",
    "# \"\"\"\n",
    "\n",
    "# def get_chunks(arr, chunksize=1000): \n",
    "#     \"\"\" a function to divide a large vector \n",
    "#     into equal subparts.\n",
    "\n",
    "#     Args:\n",
    "#         - arr (iterable): array to chunk\n",
    "#         - chunksize (int): number of indices per chunk\n",
    "    \n",
    "#     Returns: \n",
    "#         - indices (list of tuple): (start, stop)\n",
    "#     \"\"\"\n",
    "#     for i in range(0, len(arr), chunksize):\n",
    "#         yield arr[i:i + chunksize]"
   ]
  },
  {
   "cell_type": "code",
   "execution_count": 18,
   "metadata": {
    "tags": []
   },
   "outputs": [],
   "source": [
    "# %%memit\n",
    "\n",
    "# \"\"\"\n",
    "# save arrays in chunks\n",
    "# \"\"\"\n",
    "\n",
    "# CHUNK_SIZE = 1000\n",
    "\n",
    "# print(f'Cell Memory (Before): {str(mem_profile.memory_usage())} MB' )\n",
    "# chunk_counter = 0\n",
    "# for chunk in get_chunks(tiles, chunksize=CHUNK_SIZE):\n",
    "#     gc.collect() # force collect each iteration \n",
    "#     chunk_counter += 1\n",
    "\n",
    "#     print(f'\\tChunk {chunk_counter} Memory (Before): {str(mem_profile.memory_usage())} MB')\n",
    "#     NP_SAVEPATH = f\"{save_dir}{chunk_counter}_{county}_tiles.npy\"\n",
    "#     start_time = time.time()\n",
    "#     tiles_np = np.asarray(chunk)\n",
    "#     print(f\"\\tConverted {county} chunk {chunk_counter} to array.\")\n",
    "#     np.save(NP_SAVEPATH, tiles_np)\n",
    "#     end_time = time.time() - start_time\n",
    "#     print(f\"\\tSaving {county} chunk {chunk_counter} took: {end_time/60:.2f} minutes\")\n",
    "#     print(f'\\tChunk {chunk_counter} Memory (After): {str(mem_profile.memory_usage())} MB')\n",
    "#     print()\n",
    "\n",
    "# print(f'Cell Memory (After): {str(mem_profile.memory_usage())} MB' )\n",
    "\n"
   ]
  },
  {
   "cell_type": "code",
   "execution_count": 19,
   "metadata": {
    "tags": []
   },
   "outputs": [],
   "source": [
    "# print('Memory (Before): ' + str(mem_profile.memory_usage()) + 'MB' )\n",
    "# gc.collect()\n",
    "# ## build coordinate map\n",
    "# new_rows = []\n",
    "# for i, (lat, lon) in enumerate(center_coords):\n",
    "#     row = {\n",
    "#         'image_index':i,\n",
    "#         'latitiude':lat,\n",
    "#         'longitude':lon,\n",
    "#         'projection':builder.src.crs,\n",
    "#         'resolution':builder.src.res,\n",
    "#         'metadata':builder.src.meta,\n",
    "#         'county': builder.NAME,\n",
    "#         'window_size':builder.MOSIAC_SIDE_LENGTH}\n",
    "#     new_rows.append(row)\n",
    "\n",
    "# coord_df = pd.DataFrame(new_rows)\n",
    "# coord_df['chunk_file'] = (coord_df.index / CHUNK_SIZE + 1).astype(int)\n",
    "\n",
    "# DF_SAVEPATH = f\"{save_dir}{county}_coordinate_map.csv\"\n",
    "# coord_df.to_csv(DF_SAVEPATH, index=False)\n",
    "# print('Memory (After) : ' + str(mem_profile.memory_usage()) + 'MB')"
   ]
  },
  {
   "cell_type": "code",
   "execution_count": 20,
   "metadata": {},
   "outputs": [],
   "source": [
    "# coord_df.tail()"
   ]
  },
  {
   "cell_type": "markdown",
   "metadata": {},
   "source": [
    "# Wayne County needs special treatment"
   ]
  },
  {
   "cell_type": "code",
   "execution_count": 21,
   "metadata": {
    "tags": []
   },
   "outputs": [
    {
     "output_type": "stream",
     "name": "stdout",
     "text": "Working windows for Chunk: 1\nMemory (Before): [146.03125] MB\nConverting Wayne chunk 1 to array.\nChunk: 1 took: 4.82\nMemory (After) : [6410.5234375]MB\n\nWorking windows for Chunk: 2\nMemory (Before): [6472.390625] MB\nConverting Wayne chunk 2 to array.\nChunk: 2 took: 5.08\nMemory (After) : [4251.0234375]MB\n\nWorking windows for Chunk: 3\nMemory (Before): [4270.83984375] MB\nConverting Wayne chunk 3 to array.\nChunk: 3 took: 5.25\nMemory (After) : [3168.74609375]MB\n\nWorking windows for Chunk: 4\nMemory (Before): [3245.5546875] MB\nConverting Wayne chunk 4 to array.\nChunk: 4 took: 5.28\nMemory (After) : [3362.62890625]MB\n\nWorking windows for Chunk: 5\nMemory (Before): [3165.15625] MB\nConverting Wayne chunk 5 to array.\nChunk: 5 took: 5.30\nMemory (After) : [3355.8359375]MB\n\nWorking windows for Chunk: 6\nMemory (Before): [3433.1171875] MB\nConverting Wayne chunk 6 to array.\nChunk: 6 took: 5.43\nMemory (After) : [3156.51953125]MB\n\nWorking windows for Chunk: 7\nMemory (Before): [3232.52734375] MB\nConverting Wayne chunk 7 to array.\nChunk: 7 took: 5.39\nMemory (After) : [3374.66015625]MB\n\nWorking windows for Chunk: 8\nMemory (Before): [3378.90234375] MB\nConverting Wayne chunk 8 to array.\nChunk: 8 took: 5.43\nMemory (After) : [3429.25]MB\n\nWorking windows for Chunk: 9\nMemory (Before): [3505.2421875] MB\nConverting Wayne chunk 9 to array.\nChunk: 9 took: 5.50\nMemory (After) : [4338.15234375]MB\n\nWorking windows for Chunk: 10\nMemory (Before): [4368.37109375] MB\nConverting Wayne chunk 10 to array.\nChunk: 10 took: 5.71\nMemory (After) : [4040.52734375]MB\n\nWorking windows for Chunk: 11\nMemory (Before): [4053.51953125] MB\nConverting Wayne chunk 11 to array.\nChunk: 11 took: 5.58\nMemory (After) : [4603.76953125]MB\n\nWorking windows for Chunk: 12\nMemory (Before): [4595.3515625] MB\nConverting Wayne chunk 12 to array.\nChunk: 12 took: 5.60\nMemory (After) : [3864.859375]MB\n\nWorking windows for Chunk: 13\nMemory (Before): [3942.12890625] MB\nConverting Wayne chunk 13 to array.\nChunk: 13 took: 5.62\nMemory (After) : [3901.140625]MB\n\nWorking windows for Chunk: 14\nMemory (Before): [3653.46484375] MB\nConverting Wayne chunk 14 to array.\nChunk: 14 took: 5.71\nMemory (After) : [5195.18359375]MB\n\nWorking windows for Chunk: 15\nMemory (Before): [5271.51953125] MB\nConverting Wayne chunk 15 to array.\nChunk: 15 took: 5.74\nMemory (After) : [4460.48828125]MB\n\nWorking windows for Chunk: 16\nMemory (Before): [4486.6640625] MB\nConverting Wayne chunk 16 to array.\nChunk: 16 took: 5.84\nMemory (After) : [4066.5234375]MB\n\nWorking windows for Chunk: 17\nMemory (Before): [4141.05078125] MB\nConverting Wayne chunk 17 to array.\nChunk: 17 took: 5.82\nMemory (After) : [4004.4765625]MB\n\nWorking windows for Chunk: 18\nMemory (Before): [4080.28515625] MB\nConverting Wayne chunk 18 to array.\nChunk: 18 took: 5.97\nMemory (After) : [4163.88671875]MB\n\nWorking windows for Chunk: 19\nMemory (Before): [4201.1015625] MB\nConverting Wayne chunk 19 to array.\nChunk: 19 took: 6.00\nMemory (After) : [4150.22265625]MB\n\nWorking windows for Chunk: 20\nMemory (Before): [4199.07421875] MB\nConverting Wayne chunk 20 to array.\nChunk: 20 took: 6.31\nMemory (After) : [3804.70703125]MB\n\nWorking windows for Chunk: 21\nMemory (Before): [3882.28515625] MB\nConverting Wayne chunk 21 to array.\nChunk: 21 took: 6.50\nMemory (After) : [3709.6953125]MB\n\nWorking windows for Chunk: 22\nMemory (Before): [3753.99609375] MB\nConverting Wayne chunk 22 to array.\nChunk: 22 took: 6.46\nMemory (After) : [4261.671875]MB\n\nWorking windows for Chunk: 23\nMemory (Before): [4339.11328125] MB\nConverting Wayne chunk 23 to array.\nChunk: 23 took: 6.49\nMemory (After) : [4082.21875]MB\n\nWorking windows for Chunk: 24\nMemory (Before): [4045.703125] MB\nConverting Wayne chunk 24 to array.\nChunk: 24 took: 6.61\nMemory (After) : [4247.66796875]MB\n\nWorking windows for Chunk: 25\nMemory (Before): [3871.7265625] MB\nConverting Wayne chunk 25 to array.\nChunk: 25 took: 6.71\nMemory (After) : [4308.51171875]MB\n\nWorking windows for Chunk: 26\nMemory (Before): [4025.578125] MB\nConverting Wayne chunk 26 to array.\nChunk: 26 took: 6.96\nMemory (After) : [3639.98828125]MB\n\nWorking windows for Chunk: 27\nMemory (Before): [3717.4453125] MB\nConverting Wayne chunk 27 to array.\nChunk: 27 took: 7.00\nMemory (After) : [4233.51171875]MB\n\nWorking windows for Chunk: 28\nMemory (Before): [4310.1953125] MB\nConverting Wayne chunk 28 to array.\nChunk: 28 took: 7.22\nMemory (After) : [4785.875]MB\n\nWorking windows for Chunk: 29\nMemory (Before): [4863.14453125] MB\nConverting Wayne chunk 29 to array.\nChunk: 29 took: 7.51\nMemory (After) : [5772.52734375]MB\n\nWorking windows for Chunk: 30\nMemory (Before): [5813.71484375] MB\nConverting Wayne chunk 30 to array.\nChunk: 30 took: 7.60\nMemory (After) : [6590.73828125]MB\n\nWorking windows for Chunk: 31\nMemory (Before): [6660.65234375] MB\nConverting Wayne chunk 31 to array.\nChunk: 31 took: 5.87\nMemory (After) : [6977.78515625]MB\n\nCPU times: user 7min 51s, sys: 53min 45s, total: 1h 1min 36s\nWall time: 3h 6min 28s\n"
    }
   ],
   "source": [
    "%%time \n",
    "\n",
    "\"\"\"\n",
    "Only grabbing tiles for now. Chunk at a time - then go back and do coordinates.\n",
    "\"\"\"\n",
    "reload(tiling_util)\n",
    "\n",
    "save_dir = '/Volumes/Cooper_TB_Drive/research/readmissions/tile_files/'\n",
    "\n",
    "builder = FULL_GEOTIFFS['Wayne']['builder']\n",
    "chunk_indices = builder.laz_build_mosaic()\n",
    "\n",
    "for idx, chunk in enumerate(chunk_indices):\n",
    "    gc.collect()\n",
    "    start_time = time.time()\n",
    "\n",
    "    chunk_id = idx + 1\n",
    "\n",
    "    print(f\"Working windows for Chunk: {chunk_id}\")\n",
    "    print('Memory (Before): ' + str(mem_profile.memory_usage()) + ' MB')\n",
    "\n",
    "    tiles = []\n",
    "\n",
    "    for args in chunk:\n",
    "        row_i, col_i, side_len = args\n",
    "\n",
    "        clip = builder.get_window(row_i, col_i, side_len)\n",
    "\n",
    "        # handle non-square clips\n",
    "        if clip.shape[1] != side_len or clip.shape[2] != side_len:\n",
    "            pad = np.full((3, side_len, side_len), builder.PAD_VALUE)\n",
    "            pad[:, 0:clip.shape[1], 0:clip.shape[2]] = clip\n",
    "            clip = pad.copy()\n",
    "\n",
    "        tiles.append(clip)            \n",
    "\n",
    "    print(f\"Converting Wayne chunk {chunk_id} to array.\")\n",
    "    tiles_np = np.asarray(tiles)\n",
    "\n",
    "    NP_SAVEPATH = f\"{save_dir}{chunk_id}_Wayne_tiles.npy\"\n",
    "    np.save(NP_SAVEPATH, tiles_np)\n",
    "    end_time = time.time() - start_time\n",
    "    print(f\"Chunk: {chunk_id} took: {end_time/60:.2f}\")\n",
    "    print('Memory (After) : ' + str(mem_profile.memory_usage()) + 'MB')\n",
    "    print()"
   ]
  },
  {
   "cell_type": "code",
   "execution_count": 27,
   "metadata": {
    "tags": []
   },
   "outputs": [
    {
     "output_type": "stream",
     "name": "stdout",
     "text": "Working windows for Chunk: 1\nMemory (Before): [4851.76953125] MB\nChunk: 1 took: 1.82\nMemory (After) : [4582.59375]MB\n\nWorking windows for Chunk: 2\nMemory (Before): [4582.59765625] MB\nChunk: 2 took: 2.19\nMemory (After) : [4570.0078125]MB\n\nWorking windows for Chunk: 3\nMemory (Before): [4570.0078125] MB\nChunk: 3 took: 2.24\nMemory (After) : [4538.6328125]MB\n\nWorking windows for Chunk: 4\nMemory (Before): [4538.6328125] MB\nChunk: 4 took: 2.14\nMemory (After) : [4539.921875]MB\n\nWorking windows for Chunk: 5\nMemory (Before): [4539.921875] MB\nChunk: 5 took: 2.64\nMemory (After) : [4541.5703125]MB\n\nWorking windows for Chunk: 6\nMemory (Before): [4541.57421875] MB\nChunk: 6 took: 2.65\nMemory (After) : [4542.8828125]MB\n\nWorking windows for Chunk: 7\nMemory (Before): [4542.8828125] MB\nChunk: 7 took: 2.71\nMemory (After) : [4544.66796875]MB\n\nWorking windows for Chunk: 8\nMemory (Before): [4544.671875] MB\nChunk: 8 took: 2.87\nMemory (After) : [4515.44921875]MB\n\nWorking windows for Chunk: 9\nMemory (Before): [4515.44921875] MB\nChunk: 9 took: 3.00\nMemory (After) : [4402.171875]MB\n\nWorking windows for Chunk: 10\nMemory (Before): [4402.171875] MB\nChunk: 10 took: 2.95\nMemory (After) : [4392.19140625]MB\n\nWorking windows for Chunk: 11\nMemory (Before): [4392.19140625] MB\nChunk: 11 took: 3.08\nMemory (After) : [4286.42578125]MB\n\nWorking windows for Chunk: 12\nMemory (Before): [4286.42578125] MB\nChunk: 12 took: 3.07\nMemory (After) : [4287.69140625]MB\n\nWorking windows for Chunk: 13\nMemory (Before): [4287.69140625] MB\nChunk: 13 took: 2.91\nMemory (After) : [4289.109375]MB\n\nWorking windows for Chunk: 14\nMemory (Before): [4289.109375] MB\nChunk: 14 took: 2.90\nMemory (After) : [4290.5390625]MB\n\nWorking windows for Chunk: 15\nMemory (Before): [4290.5390625] MB\nChunk: 15 took: 3.12\nMemory (After) : [4291.79296875]MB\n\nWorking windows for Chunk: 16\nMemory (Before): [4291.796875] MB\nChunk: 16 took: 3.14\nMemory (After) : [4293.0703125]MB\n\nWorking windows for Chunk: 17\nMemory (Before): [4293.07421875] MB\nChunk: 17 took: 3.16\nMemory (After) : [4294.390625]MB\n\nWorking windows for Chunk: 18\nMemory (Before): [4294.390625] MB\nChunk: 18 took: 3.25\nMemory (After) : [4042.61328125]MB\n\nWorking windows for Chunk: 19\nMemory (Before): [4042.74609375] MB\nChunk: 19 took: 2.95\nMemory (After) : [3955.56640625]MB\n\nWorking windows for Chunk: 20\nMemory (Before): [3955.56640625] MB\nChunk: 20 took: 2.41\nMemory (After) : [3956.8515625]MB\n\nWorking windows for Chunk: 21\nMemory (Before): [3956.8515625] MB\nChunk: 21 took: 2.97\nMemory (After) : [3958.16796875]MB\n\nWorking windows for Chunk: 22\nMemory (Before): [3958.171875] MB\nChunk: 22 took: 1.85\nMemory (After) : [3959.5703125]MB\n\nWorking windows for Chunk: 23\nMemory (Before): [3959.5703125] MB\nChunk: 23 took: 1.83\nMemory (After) : [3960.8203125]MB\n\nWorking windows for Chunk: 24\nMemory (Before): [3960.8203125] MB\nChunk: 24 took: 1.82\nMemory (After) : [3962.12109375]MB\n\nWorking windows for Chunk: 25\nMemory (Before): [3962.12109375] MB\nChunk: 25 took: 2.39\nMemory (After) : [3963.44140625]MB\n\nWorking windows for Chunk: 26\nMemory (Before): [3963.44140625] MB\nChunk: 26 took: 3.29\nMemory (After) : [3964.82421875]MB\n\nWorking windows for Chunk: 27\nMemory (Before): [3964.82421875] MB\nChunk: 27 took: 3.28\nMemory (After) : [3966.078125]MB\n\nWorking windows for Chunk: 28\nMemory (Before): [3966.078125] MB\nChunk: 28 took: 2.23\nMemory (After) : [3967.38671875]MB\n\nWorking windows for Chunk: 29\nMemory (Before): [3967.38671875] MB\nChunk: 29 took: 1.94\nMemory (After) : [3810.5078125]MB\n\nWorking windows for Chunk: 30\nMemory (Before): [3810.5078125] MB\nChunk: 30 took: 1.88\nMemory (After) : [3811.7578125]MB\n\nWorking windows for Chunk: 31\nMemory (Before): [3811.7578125] MB\nChunk: 31 took: 1.47\nMemory (After) : [3729.66015625]MB\n\nMemory (After) : [3734.6875]MB\nCPU times: user 1h 2min 56s, sys: 4min 14s, total: 1h 7min 11s\nWall time: 1h 20min 19s\n"
    }
   ],
   "source": [
    "%%time \n",
    "gc.collect()\n",
    "\"\"\"\n",
    "do coordinates.\n",
    "\"\"\"\n",
    "CHUNK_SIZE = 1000\n",
    "reload(tiling_util)\n",
    "\n",
    "save_dir = '/Volumes/Cooper_TB_Drive/research/readmissions/tile_files/'\n",
    "\n",
    "builder = FULL_GEOTIFFS['Wayne']['builder']\n",
    "chunk_indices = builder.laz_build_mosaic()\n",
    "new_rows = []\n",
    "\n",
    "clip_counter = 0\n",
    "\n",
    "for idx, chunk in enumerate(chunk_indices):\n",
    "    gc.collect()\n",
    "    start_time = time.time()\n",
    "\n",
    "    chunk_id = idx + 1\n",
    "\n",
    "    print(f\"Working windows for Chunk: {chunk_id}\")\n",
    "    print('Memory (Before): ' + str(mem_profile.memory_usage()) + ' MB')\n",
    "\n",
    "    for args in chunk:\n",
    "        row_i, col_i, side_len = args\n",
    "\n",
    "        lat, lon = builder.get_latlon_point(row_i + side_len // 2, col_i + side_len // 2)\n",
    "\n",
    "        row = {\n",
    "            'image_index':clip_counter,\n",
    "            'latitiude':lat,\n",
    "            'longitude':lon,\n",
    "            'projection':builder.src.crs,\n",
    "            'resolution':builder.src.res,\n",
    "            'metadata':builder.src.meta,\n",
    "            'county': builder.NAME,\n",
    "            'window_size':builder.MOSIAC_SIDE_LENGTH,\n",
    "            'chunk_file':chunk_id}\n",
    "\n",
    "        new_rows.append(row)\n",
    "        clip_counter += 1\n",
    "\n",
    "    end_time = time.time() - start_time\n",
    "    print(f\"Chunk: {chunk_id} took: {end_time/60:.2f}\")\n",
    "    print('Memory (After) : ' + str(mem_profile.memory_usage()) + 'MB')\n",
    "    print()\n",
    "\n",
    "\n",
    "coord_df = pd.DataFrame(new_rows)\n",
    "DF_SAVEPATH = f\"{save_dir}Wayne_coordinate_map.csv\"\n",
    "coord_df.to_csv(DF_SAVEPATH, index=False)\n",
    "print('Memory (After) : ' + str(mem_profile.memory_usage()) + 'MB')\n",
    "\n"
   ]
  },
  {
   "cell_type": "code",
   "execution_count": null,
   "metadata": {},
   "outputs": [],
   "source": []
  }
 ]
}