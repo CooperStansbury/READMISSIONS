{
 "metadata": {
  "language_info": {
   "codemirror_mode": {
    "name": "ipython",
    "version": 3
   },
   "file_extension": ".py",
   "mimetype": "text/x-python",
   "name": "python",
   "nbconvert_exporter": "python",
   "pygments_lexer": "ipython3",
   "version": "3.7.6-final"
  },
  "orig_nbformat": 2,
  "kernelspec": {
   "name": "python3",
   "display_name": "Python 3"
  }
 },
 "nbformat": 4,
 "nbformat_minor": 2,
 "cells": [
  {
   "cell_type": "code",
   "execution_count": 8,
   "metadata": {},
   "outputs": [],
   "source": [
    "import numpy as np\n",
    "import pandas as pd\n",
    "import os\n",
    "import matplotlib.pyplot as plt\n",
    "import sys\n",
    "from importlib import reload\n",
    "import time\n",
    "\n",
    "import gc\n",
    "import memory_profiler as mem_profile"
   ]
  },
  {
   "cell_type": "code",
   "execution_count": 17,
   "metadata": {},
   "outputs": [],
   "source": [
    "def build_fig(size=(10, 10), dpi=300):\n",
    "    \"\"\"A function to build a matplotlib figure. Primary\n",
    "    goal is to sandardize the easy stuff.\n",
    "    Args:\n",
    "        - title (str): the title of the plot\n",
    "        - axis_off (bool): should the axis be printed?\n",
    "        - size (tuple): how big should the plot be?\n",
    "        - y_lab (str): y axis label\n",
    "        - x_lab (str): x axis label\n",
    "    Returns:\n",
    "        fig (plt.figure)\n",
    "    \"\"\"\n",
    "    fig = plt.figure(figsize=size, \n",
    "                    facecolor='w',\n",
    "                    dpi=dpi)\n",
    "\n",
    "    plt.axis('off')\n",
    "    return fig"
   ]
  },
  {
   "cell_type": "code",
   "execution_count": 18,
   "metadata": {
    "tags": []
   },
   "outputs": [
    {
     "output_type": "stream",
     "name": "stdout",
     "text": "Working on chunk 1 from Livingston\nMemory (Before): [134.3203125] MB\nstarting image save\nMemory (After): [6006.015625] MB\nChunk: 1 took: 57.42\nWorking on chunk 1 from Monroe\nMemory (Before): [6006.015625] MB\nstarting image save\nMemory (After): [6428.55078125] MB\nChunk: 1 took: 51.14\nWorking on chunk 1 from Oakland\nMemory (Before): [6428.55078125] MB\nstarting image save\nMemory (After): [6283.90625] MB\nChunk: 1 took: 53.16\nWorking on chunk 1 from Washtenaw\nMemory (Before): [6283.90625] MB\nstarting image save\nMemory (After): [6235.89453125] MB\nChunk: 1 took: 53.63\nWorking on chunk 1 from Wayne\nMemory (Before): [6235.89453125] MB\nstarting image save\nMemory (After): [5583.546875] MB\nChunk: 1 took: 53.31\nWorking on chunk 2 from Livingston\nMemory (Before): [5583.546875] MB\nstarting image save\nMemory (After): [6020.61328125] MB\nChunk: 2 took: 58.92\nWorking on chunk 2 from Monroe\nMemory (Before): [6020.61328125] MB\nstarting image save\nMemory (After): [6079.8046875] MB\nChunk: 2 took: 59.56\nWorking on chunk 2 from Oakland\nMemory (Before): [6079.8046875] MB\nstarting image save\nMemory (After): [6037.0703125] MB\nChunk: 2 took: 58.15\nWorking on chunk 2 from Washtenaw\nMemory (Before): [6037.0703125] MB\nstarting image save\nMemory (After): [5965.65625] MB\nChunk: 2 took: 59.99\nWorking on chunk 2 from Wayne\nMemory (Before): [5965.65625] MB\nstarting image save\nMemory (After): [5492.578125] MB\nChunk: 2 took: 66.88\nWorking on chunk 3 from Livingston\nMemory (Before): [5492.578125] MB\nstarting image save\nMemory (After): [6204.2734375] MB\nChunk: 3 took: 59.34\nWorking on chunk 3 from Monroe\nMemory (Before): [6204.27734375] MB\nstarting image save\nMemory (After): [6149.45703125] MB\nChunk: 3 took: 55.17\nWorking on chunk 3 from Oakland\nMemory (Before): [6149.45703125] MB\nstarting image save\nMemory (After): [6236.421875] MB\nChunk: 3 took: 60.79\nWorking on chunk 3 from Washtenaw\nMemory (Before): [6236.421875] MB\nstarting image save\nMemory (After): [6136.34375] MB\nChunk: 3 took: 62.35\nWorking on chunk 3 from Wayne\nMemory (Before): [6136.34375] MB\nstarting image save\nMemory (After): [5520.8828125] MB\nChunk: 3 took: 59.98\nWorking on chunk 4 from Livingston\nMemory (Before): [5520.8828125] MB\nstarting image save\nMemory (After): [6023.1484375] MB\nChunk: 4 took: 59.42\nWorking on chunk 4 from Monroe\nMemory (Before): [6023.1484375] MB\nstarting image save\nMemory (After): [5982.8203125] MB\nChunk: 4 took: 50.22\nWorking on chunk 4 from Oakland\nMemory (Before): [5982.8203125] MB\nstarting image save\nMemory (After): [6149.61328125] MB\nChunk: 4 took: 60.20\nWorking on chunk 4 from Washtenaw\nMemory (Before): [6149.61328125] MB\nstarting image save\nMemory (After): [6026.48828125] MB\nChunk: 4 took: 61.83\nWorking on chunk 4 from Wayne\nMemory (Before): [6026.48828125] MB\nstarting image save\nMemory (After): [5664.4375] MB\nChunk: 4 took: 51.73\nWorking on chunk 5 from Livingston\nMemory (Before): [5664.4375] MB\nstarting image save\nMemory (After): [6250.80078125] MB\nChunk: 5 took: 44.43\nWorking on chunk 5 from Monroe\nMemory (Before): [6250.80078125] MB\nstarting image save\nMemory (After): [6412.58203125] MB\nChunk: 5 took: 45.27\nWorking on chunk 5 from Oakland\nMemory (Before): [6412.58203125] MB\nstarting image save\nMemory (After): [6314.8828125] MB\nChunk: 5 took: 58.02\nWorking on chunk 5 from Washtenaw\nMemory (Before): [6314.8828125] MB\nstarting image save\nMemory (After): [6346.0625] MB\nChunk: 5 took: 60.99\nWorking on chunk 5 from Wayne\nMemory (Before): [6346.0625] MB\nstarting image save\nMemory (After): [5692.0] MB\nChunk: 5 took: 52.33\nWorking on chunk 6 from Monroe\nMemory (Before): [5692.0] MB\nstarting image save\nMemory (After): [6307.515625] MB\nChunk: 6 took: 41.88\nWorking on chunk 6 from Oakland\nMemory (Before): [6307.515625] MB\nstarting image save\nMemory (After): [6436.8203125] MB\nChunk: 6 took: 59.16\nWorking on chunk 6 from Washtenaw\nMemory (Before): [6436.8203125] MB\nstarting image save\nMemory (After): [6583.140625] MB\nChunk: 6 took: 48.83\nWorking on chunk 6 from Wayne\nMemory (Before): [6583.140625] MB\nstarting image save\nMemory (After): [6036.64453125] MB\nChunk: 6 took: 51.57\nWorking on chunk 7 from Monroe\nMemory (Before): [6036.64453125] MB\nstarting image save\nMemory (After): [3403.48828125] MB\nChunk: 7 took: 2.70\nWorking on chunk 7 from Oakland\nMemory (Before): [3403.48828125] MB\nstarting image save\nMemory (After): [6469.75] MB\nChunk: 7 took: 59.11\nWorking on chunk 7 from Wayne\nMemory (Before): [6469.75] MB\nstarting image save\nMemory (After): [5770.22265625] MB\nChunk: 7 took: 46.52\nWorking on chunk 8 from Oakland\nMemory (Before): [5770.22265625] MB\nstarting image save\nMemory (After): [6510.98828125] MB\nChunk: 8 took: 25.47\nWorking on chunk 8 from Wayne\nMemory (Before): [6510.98828125] MB\nstarting image save\nMemory (After): [5652.7890625] MB\nChunk: 8 took: 21.19\nCPU times: user 1d 1h 50min 29s, sys: 1h 5min 9s, total: 1d 2h 55min 38s\nWall time: 1d 5h 30min 58s\n"
    }
   ],
   "source": [
    "%%time\n",
    "\n",
    "plt.ioff()\n",
    "\n",
    "TILE_DIR = \"/Volumes/Cooper_TB_Drive/research/readmissions/tile_files\"\n",
    "IMAGE_DIR = \"/Volumes/Cooper_TB_Drive/research/readmissions/image_files\"\n",
    "\n",
    "for file in os.listdir(TILE_DIR):\n",
    "    if '.npy' in file:\n",
    "        gc.collect()\n",
    "        chunk_id = file.split(\"_\")[0]\n",
    "        county = file.split(\"_\")[1]\n",
    "\n",
    "        print(f'Working on chunk {chunk_id} from {county}')\n",
    "        print(f'Memory (Before): {mem_profile.memory_usage()} MB')\n",
    "\n",
    "        SAVE_IMAGE_PATH= f\"{IMAGE_DIR}/{county}\"\n",
    "\n",
    "        file_to_get = f\"{TILE_DIR}/{file}\"\n",
    "        TILES = np.load(file_to_get, mmap_mode='r')\n",
    "\n",
    "        print('starting image save')\n",
    "        start_time = time.time()\n",
    "\n",
    "        for i in range(len(TILES)):\n",
    "            f_name = f\"{SAVE_IMAGE_PATH}/chunk_{chunk_id}_img_{i}.png\"\n",
    "            fig = build_fig()\n",
    "            img = np.moveaxis(TILES[i], 0, 2)\n",
    "            plt.imshow(img)\n",
    "            plt.savefig(f_name)\n",
    "            plt.close()\n",
    "\n",
    "        gc.collect()\n",
    "        print(f'Memory (After): {mem_profile.memory_usage()} MB')\n",
    "        end_time = time.time() - start_time\n",
    "        print(f\"Chunk: {chunk_id} took: {end_time/60:.2f}\")"
   ]
  },
  {
   "cell_type": "code",
   "execution_count": null,
   "metadata": {},
   "outputs": [],
   "source": []
  }
 ]
}