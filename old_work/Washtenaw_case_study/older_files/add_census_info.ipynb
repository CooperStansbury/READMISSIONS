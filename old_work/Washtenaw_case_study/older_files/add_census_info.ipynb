{
 "metadata": {
  "language_info": {
   "codemirror_mode": {
    "name": "ipython",
    "version": 3
   },
   "file_extension": ".py",
   "mimetype": "text/x-python",
   "name": "python",
   "nbconvert_exporter": "python",
   "pygments_lexer": "ipython3",
   "version": "3.7.6-final"
  },
  "orig_nbformat": 2,
  "kernelspec": {
   "name": "python3",
   "display_name": "Python 3"
  }
 },
 "nbformat": 4,
 "nbformat_minor": 2,
 "cells": [
  {
   "cell_type": "code",
   "execution_count": 1,
   "metadata": {},
   "outputs": [],
   "source": [
    "import pandas as pd\n",
    "import numpy as np\n",
    "import os\n",
    "import censusgeocode"
   ]
  },
  {
   "cell_type": "code",
   "execution_count": 2,
   "metadata": {
    "tags": []
   },
   "outputs": [
    {
     "output_type": "stream",
     "name": "stdout",
     "text": "(5964, 19)\n"
    },
    {
     "output_type": "execute_result",
     "data": {
      "text/plain": "   Unnamed: 0                                               file   county_x  \\\n0           0  /Volumes/Cooper_TB_Drive/research/readmissions...  Washtenaw   \n1           1  /Volumes/Cooper_TB_Drive/research/readmissions...  Washtenaw   \n2           2  /Volumes/Cooper_TB_Drive/research/readmissions...  Washtenaw   \n3           3  /Volumes/Cooper_TB_Drive/research/readmissions...  Washtenaw   \n4           4  /Volumes/Cooper_TB_Drive/research/readmissions...  Washtenaw   \n\n                       labels  \\\n0  ['White', 'Black', 'Line']   \n1  ['White', 'Black', 'Line']   \n2  ['White', 'Black', 'Line']   \n3  ['White', 'Black', 'Line']   \n4  ['White', 'Black', 'Line']   \n\n                                        label_scores             colors  \\\n0  [0.9736676812171936, 0.9484156370162964, 0.787...  [(255, 255, 255)]   \n1  [0.9736676812171936, 0.9484156370162964, 0.787...  [(255, 255, 255)]   \n2  [0.9736676812171936, 0.9484156370162964, 0.787...  [(255, 255, 255)]   \n3  [0.9736676812171936, 0.9484156370162964, 0.787...  [(255, 255, 255)]   \n4  [0.9736676812171936, 0.9484156370162964, 0.787...  [(255, 255, 255)]   \n\n  color_pixel_fraction color_scores  chunk  chunk_index  image_index  \\\n0                [1.0]        [1.0]      1            0            0   \n1                [1.0]        [1.0]      1            1            1   \n2                [1.0]        [1.0]      1           10           10   \n3                [1.0]        [1.0]      1          100          100   \n4                [1.0]        [1.0]      1          101          101   \n\n   latitiude  longitude projection  resolution  \\\n0  42.442355 -84.139114  EPSG:2898  (2.0, 2.0)   \n1  42.442340 -84.131704  EPSG:2898  (2.0, 2.0)   \n2  42.442182 -84.065016  EPSG:2898  (2.0, 2.0)   \n3  42.436567 -84.020588  EPSG:2898  (2.0, 2.0)   \n4  42.436545 -84.013179  EPSG:2898  (2.0, 2.0)   \n\n                                            metadata   county_y  window_size  \\\n0  {'driver': 'GTiff', 'dtype': 'uint8', 'nodata'...  Washtenaw         1000   \n1  {'driver': 'GTiff', 'dtype': 'uint8', 'nodata'...  Washtenaw         1000   \n2  {'driver': 'GTiff', 'dtype': 'uint8', 'nodata'...  Washtenaw         1000   \n3  {'driver': 'GTiff', 'dtype': 'uint8', 'nodata'...  Washtenaw         1000   \n4  {'driver': 'GTiff', 'dtype': 'uint8', 'nodata'...  Washtenaw         1000   \n\n   chunk_file  \n0           1  \n1           1  \n2           1  \n3           1  \n4           1  ",
      "text/html": "<div>\n<style scoped>\n    .dataframe tbody tr th:only-of-type {\n        vertical-align: middle;\n    }\n\n    .dataframe tbody tr th {\n        vertical-align: top;\n    }\n\n    .dataframe thead th {\n        text-align: right;\n    }\n</style>\n<table border=\"1\" class=\"dataframe\">\n  <thead>\n    <tr style=\"text-align: right;\">\n      <th></th>\n      <th>Unnamed: 0</th>\n      <th>file</th>\n      <th>county_x</th>\n      <th>labels</th>\n      <th>label_scores</th>\n      <th>colors</th>\n      <th>color_pixel_fraction</th>\n      <th>color_scores</th>\n      <th>chunk</th>\n      <th>chunk_index</th>\n      <th>image_index</th>\n      <th>latitiude</th>\n      <th>longitude</th>\n      <th>projection</th>\n      <th>resolution</th>\n      <th>metadata</th>\n      <th>county_y</th>\n      <th>window_size</th>\n      <th>chunk_file</th>\n    </tr>\n  </thead>\n  <tbody>\n    <tr>\n      <th>0</th>\n      <td>0</td>\n      <td>/Volumes/Cooper_TB_Drive/research/readmissions...</td>\n      <td>Washtenaw</td>\n      <td>['White', 'Black', 'Line']</td>\n      <td>[0.9736676812171936, 0.9484156370162964, 0.787...</td>\n      <td>[(255, 255, 255)]</td>\n      <td>[1.0]</td>\n      <td>[1.0]</td>\n      <td>1</td>\n      <td>0</td>\n      <td>0</td>\n      <td>42.442355</td>\n      <td>-84.139114</td>\n      <td>EPSG:2898</td>\n      <td>(2.0, 2.0)</td>\n      <td>{'driver': 'GTiff', 'dtype': 'uint8', 'nodata'...</td>\n      <td>Washtenaw</td>\n      <td>1000</td>\n      <td>1</td>\n    </tr>\n    <tr>\n      <th>1</th>\n      <td>1</td>\n      <td>/Volumes/Cooper_TB_Drive/research/readmissions...</td>\n      <td>Washtenaw</td>\n      <td>['White', 'Black', 'Line']</td>\n      <td>[0.9736676812171936, 0.9484156370162964, 0.787...</td>\n      <td>[(255, 255, 255)]</td>\n      <td>[1.0]</td>\n      <td>[1.0]</td>\n      <td>1</td>\n      <td>1</td>\n      <td>1</td>\n      <td>42.442340</td>\n      <td>-84.131704</td>\n      <td>EPSG:2898</td>\n      <td>(2.0, 2.0)</td>\n      <td>{'driver': 'GTiff', 'dtype': 'uint8', 'nodata'...</td>\n      <td>Washtenaw</td>\n      <td>1000</td>\n      <td>1</td>\n    </tr>\n    <tr>\n      <th>2</th>\n      <td>2</td>\n      <td>/Volumes/Cooper_TB_Drive/research/readmissions...</td>\n      <td>Washtenaw</td>\n      <td>['White', 'Black', 'Line']</td>\n      <td>[0.9736676812171936, 0.9484156370162964, 0.787...</td>\n      <td>[(255, 255, 255)]</td>\n      <td>[1.0]</td>\n      <td>[1.0]</td>\n      <td>1</td>\n      <td>10</td>\n      <td>10</td>\n      <td>42.442182</td>\n      <td>-84.065016</td>\n      <td>EPSG:2898</td>\n      <td>(2.0, 2.0)</td>\n      <td>{'driver': 'GTiff', 'dtype': 'uint8', 'nodata'...</td>\n      <td>Washtenaw</td>\n      <td>1000</td>\n      <td>1</td>\n    </tr>\n    <tr>\n      <th>3</th>\n      <td>3</td>\n      <td>/Volumes/Cooper_TB_Drive/research/readmissions...</td>\n      <td>Washtenaw</td>\n      <td>['White', 'Black', 'Line']</td>\n      <td>[0.9736676812171936, 0.9484156370162964, 0.787...</td>\n      <td>[(255, 255, 255)]</td>\n      <td>[1.0]</td>\n      <td>[1.0]</td>\n      <td>1</td>\n      <td>100</td>\n      <td>100</td>\n      <td>42.436567</td>\n      <td>-84.020588</td>\n      <td>EPSG:2898</td>\n      <td>(2.0, 2.0)</td>\n      <td>{'driver': 'GTiff', 'dtype': 'uint8', 'nodata'...</td>\n      <td>Washtenaw</td>\n      <td>1000</td>\n      <td>1</td>\n    </tr>\n    <tr>\n      <th>4</th>\n      <td>4</td>\n      <td>/Volumes/Cooper_TB_Drive/research/readmissions...</td>\n      <td>Washtenaw</td>\n      <td>['White', 'Black', 'Line']</td>\n      <td>[0.9736676812171936, 0.9484156370162964, 0.787...</td>\n      <td>[(255, 255, 255)]</td>\n      <td>[1.0]</td>\n      <td>[1.0]</td>\n      <td>1</td>\n      <td>101</td>\n      <td>101</td>\n      <td>42.436545</td>\n      <td>-84.013179</td>\n      <td>EPSG:2898</td>\n      <td>(2.0, 2.0)</td>\n      <td>{'driver': 'GTiff', 'dtype': 'uint8', 'nodata'...</td>\n      <td>Washtenaw</td>\n      <td>1000</td>\n      <td>1</td>\n    </tr>\n  </tbody>\n</table>\n</div>"
     },
     "metadata": {},
     "execution_count": 2
    }
   ],
   "source": [
    "FPATH = 'coords_and_feat.csv'\n",
    "df = pd.read_csv(FPATH)\n",
    "print(df.shape)\n",
    "df.head()"
   ]
  },
  {
   "cell_type": "code",
   "execution_count": 3,
   "metadata": {},
   "outputs": [],
   "source": [
    "vintages = [\n",
    "    'Current_Current',\n",
    "    'Census2010_Current',\n",
    "    'ACS2013_Current',\n",
    "    'ACS2014_Current',\n",
    "    'ACS2015_Current',\n",
    "    'ACS2016_Current',\n",
    "    'ACS2017_Current',\n",
    "    'ACS2018_Current',\n",
    "    'Current_ACS2017',\n",
    "    'Census2010_ACS2017',\n",
    "    'ACS2013_ACS2017',\n",
    "    'ACS2014_ACS2017',\n",
    "    'ACS2015_ACS2017',\n",
    "    'ACS2016_ACS2017',\n",
    "    'ACS2017_ACS2017',\n",
    "    'ACS2018_ACS2018',\n",
    "    'Census2000_Census2010',\n",
    "    'Census2010_Census2010',\n",
    "]\n",
    "\n",
    "benchmarks = ['Public_AR_Current', 'Public_AR_ACS2017', 'Public_AR_Census2010']"
   ]
  },
  {
   "cell_type": "code",
   "execution_count": 4,
   "metadata": {
    "tags": []
   },
   "outputs": [
    {
     "output_type": "stream",
     "name": "stdout",
     "text": "working on 0 to 200...\nworking on 200 to 400...\nworking on 400 to 600...\nworking on 600 to 800...\nworking on 800 to 1000...\nworking on 1000 to 1200...\nworking on 1200 to 1400...\nworking on 1400 to 1600...\nworking on 1600 to 1800...\nworking on 1800 to 2000...\nworking on 2000 to 2200...\nworking on 2200 to 2400...\nworking on 2400 to 2600...\nworking on 2600 to 2800...\nworking on 2800 to 3000...\nworking on 3000 to 3200...\nworking on 3200 to 3400...\nworking on 3400 to 3600...\nworking on 3600 to 3800...\nworking on 3800 to 4000...\nworking on 4000 to 4200...\nworking on 4200 to 4400...\nworking on 4400 to 4600...\nworking on 4600 to 4800...\nworking on 4800 to 5000...\nworking on 5000 to 5200...\nworking on 5200 to 5400...\nworking on 5400 to 5600...\nworking on 5600 to 5800...\nworking on 5800 to 6000...\n(5964, 20)\nCPU times: user 1min 52s, sys: 7.8 s, total: 2min\nWall time: 1h 5min 57s\n"
    },
    {
     "output_type": "execute_result",
     "data": {
      "text/plain": "         GEOID      CENTLAT  AREAWATER STATE BASENAME              OID LSADC  \\\n0  26093732100  +42.4668888    2523811    26     7321   20755283161773    CT   \n1  26093732100  +42.4668888    2523811    26     7321   20755283161773    CT   \n2  26093732100  +42.4668888    2523811    26     7321   20755283161773    CT   \n3  26093733601  +42.4429685    2140691    26  7336.01  207553707208141    CT   \n4  26093733601  +42.4429685    2140691    26  7336.01  207553707208141    CT   \n\n  FUNCSTAT     INTPTLAT                  NAME  OBJECTID   TRACT       CENTLON  \\\n0        S  +42.4719749     Census Tract 7321     57380  732100  -084.0832452   \n1        S  +42.4719749     Census Tract 7321     57380  732100  -084.0832452   \n2        S  +42.4719749     Census Tract 7321     57380  732100  -084.0832452   \n3        S  +42.4443155  Census Tract 7336.01     31152  733601  -083.9803529   \n4        S  +42.4443155  Census Tract 7336.01     31152  733601  -083.9803529   \n\n   AREALAND      INTPTLON  MTFCC COUNTY                       CENT  \\\n0  87423741  -084.0745650  G5020    093  (-84.0832452, 42.4668888)   \n1  87423741  -084.0745650  G5020    093  (-84.0832452, 42.4668888)   \n2  87423741  -084.0745650  G5020    093  (-84.0832452, 42.4668888)   \n3  30603912  -083.9805350  G5020    093  (-83.9803529, 42.4429685)   \n4  30603912  -083.9805350  G5020    093  (-83.9803529, 42.4429685)   \n\n                      INTPT  image_index  \n0  (-84.074565, 42.4719749)            0  \n1  (-84.074565, 42.4719749)            1  \n2  (-84.074565, 42.4719749)           10  \n3  (-83.980535, 42.4443155)          100  \n4  (-83.980535, 42.4443155)          101  ",
      "text/html": "<div>\n<style scoped>\n    .dataframe tbody tr th:only-of-type {\n        vertical-align: middle;\n    }\n\n    .dataframe tbody tr th {\n        vertical-align: top;\n    }\n\n    .dataframe thead th {\n        text-align: right;\n    }\n</style>\n<table border=\"1\" class=\"dataframe\">\n  <thead>\n    <tr style=\"text-align: right;\">\n      <th></th>\n      <th>GEOID</th>\n      <th>CENTLAT</th>\n      <th>AREAWATER</th>\n      <th>STATE</th>\n      <th>BASENAME</th>\n      <th>OID</th>\n      <th>LSADC</th>\n      <th>FUNCSTAT</th>\n      <th>INTPTLAT</th>\n      <th>NAME</th>\n      <th>OBJECTID</th>\n      <th>TRACT</th>\n      <th>CENTLON</th>\n      <th>AREALAND</th>\n      <th>INTPTLON</th>\n      <th>MTFCC</th>\n      <th>COUNTY</th>\n      <th>CENT</th>\n      <th>INTPT</th>\n      <th>image_index</th>\n    </tr>\n  </thead>\n  <tbody>\n    <tr>\n      <th>0</th>\n      <td>26093732100</td>\n      <td>+42.4668888</td>\n      <td>2523811</td>\n      <td>26</td>\n      <td>7321</td>\n      <td>20755283161773</td>\n      <td>CT</td>\n      <td>S</td>\n      <td>+42.4719749</td>\n      <td>Census Tract 7321</td>\n      <td>57380</td>\n      <td>732100</td>\n      <td>-084.0832452</td>\n      <td>87423741</td>\n      <td>-084.0745650</td>\n      <td>G5020</td>\n      <td>093</td>\n      <td>(-84.0832452, 42.4668888)</td>\n      <td>(-84.074565, 42.4719749)</td>\n      <td>0</td>\n    </tr>\n    <tr>\n      <th>1</th>\n      <td>26093732100</td>\n      <td>+42.4668888</td>\n      <td>2523811</td>\n      <td>26</td>\n      <td>7321</td>\n      <td>20755283161773</td>\n      <td>CT</td>\n      <td>S</td>\n      <td>+42.4719749</td>\n      <td>Census Tract 7321</td>\n      <td>57380</td>\n      <td>732100</td>\n      <td>-084.0832452</td>\n      <td>87423741</td>\n      <td>-084.0745650</td>\n      <td>G5020</td>\n      <td>093</td>\n      <td>(-84.0832452, 42.4668888)</td>\n      <td>(-84.074565, 42.4719749)</td>\n      <td>1</td>\n    </tr>\n    <tr>\n      <th>2</th>\n      <td>26093732100</td>\n      <td>+42.4668888</td>\n      <td>2523811</td>\n      <td>26</td>\n      <td>7321</td>\n      <td>20755283161773</td>\n      <td>CT</td>\n      <td>S</td>\n      <td>+42.4719749</td>\n      <td>Census Tract 7321</td>\n      <td>57380</td>\n      <td>732100</td>\n      <td>-084.0832452</td>\n      <td>87423741</td>\n      <td>-084.0745650</td>\n      <td>G5020</td>\n      <td>093</td>\n      <td>(-84.0832452, 42.4668888)</td>\n      <td>(-84.074565, 42.4719749)</td>\n      <td>10</td>\n    </tr>\n    <tr>\n      <th>3</th>\n      <td>26093733601</td>\n      <td>+42.4429685</td>\n      <td>2140691</td>\n      <td>26</td>\n      <td>7336.01</td>\n      <td>207553707208141</td>\n      <td>CT</td>\n      <td>S</td>\n      <td>+42.4443155</td>\n      <td>Census Tract 7336.01</td>\n      <td>31152</td>\n      <td>733601</td>\n      <td>-083.9803529</td>\n      <td>30603912</td>\n      <td>-083.9805350</td>\n      <td>G5020</td>\n      <td>093</td>\n      <td>(-83.9803529, 42.4429685)</td>\n      <td>(-83.980535, 42.4443155)</td>\n      <td>100</td>\n    </tr>\n    <tr>\n      <th>4</th>\n      <td>26093733601</td>\n      <td>+42.4429685</td>\n      <td>2140691</td>\n      <td>26</td>\n      <td>7336.01</td>\n      <td>207553707208141</td>\n      <td>CT</td>\n      <td>S</td>\n      <td>+42.4443155</td>\n      <td>Census Tract 7336.01</td>\n      <td>31152</td>\n      <td>733601</td>\n      <td>-083.9803529</td>\n      <td>30603912</td>\n      <td>-083.9805350</td>\n      <td>G5020</td>\n      <td>093</td>\n      <td>(-83.9803529, 42.4429685)</td>\n      <td>(-83.980535, 42.4443155)</td>\n      <td>101</td>\n    </tr>\n  </tbody>\n</table>\n</div>"
     },
     "metadata": {},
     "execution_count": 4
    }
   ],
   "source": [
    "%%time\n",
    "\"\"\"\n",
    "get census identifiers\n",
    "\"\"\"\n",
    "PRINT_EVERY = 200\n",
    "BENCH = 'Public_AR_Current'\n",
    "VINT = 'ACS2015_Current'\n",
    "cg = censusgeocode.CensusGeocode(benchmark=BENCH, vintage=VINT)\n",
    "\n",
    "new_rows = []\n",
    "errors = []\n",
    "\n",
    "for idx, row in df.iterrows():\n",
    "\n",
    "    if idx % PRINT_EVERY == 0:\n",
    "        print(f\"working on {idx} to {idx + PRINT_EVERY}...\")\n",
    "\n",
    "    lat = float(row['latitiude'])\n",
    "    lon = float(row['longitude'])\n",
    "    \n",
    "    try:\n",
    "        result = cg.coordinates(x=lon, y=lat)\n",
    "        cenrow = result['Census Tracts'][0]\n",
    "        cenrow['image_index'] = row['image_index']\n",
    "        new_rows.append(cenrow)\n",
    "    except Exception as e:\n",
    "        errors.append(row['image_index'])\n",
    "        print(f\"ERROR at {idx} img-{row['image_index']}, ({lat:.2f}, {lon:.2f}): {e}\")\n",
    "\n",
    "census_df = pd.DataFrame(new_rows)\n",
    "print(census_df.shape)\n",
    "census_df.head()\n"
   ]
  },
  {
   "cell_type": "code",
   "execution_count": 6,
   "metadata": {
    "tags": []
   },
   "outputs": [
    {
     "output_type": "stream",
     "name": "stdout",
     "text": "0\n"
    }
   ],
   "source": [
    "print(len(errors))"
   ]
  },
  {
   "cell_type": "code",
   "execution_count": 7,
   "metadata": {
    "tags": []
   },
   "outputs": [
    {
     "output_type": "stream",
     "name": "stdout",
     "text": "(0, 0)\n"
    },
    {
     "output_type": "execute_result",
     "data": {
      "text/plain": "Empty DataFrame\nColumns: []\nIndex: []",
      "text/html": "<div>\n<style scoped>\n    .dataframe tbody tr th:only-of-type {\n        vertical-align: middle;\n    }\n\n    .dataframe tbody tr th {\n        vertical-align: top;\n    }\n\n    .dataframe thead th {\n        text-align: right;\n    }\n</style>\n<table border=\"1\" class=\"dataframe\">\n  <thead>\n    <tr style=\"text-align: right;\">\n      <th></th>\n    </tr>\n  </thead>\n  <tbody>\n  </tbody>\n</table>\n</div>"
     },
     "metadata": {},
     "execution_count": 7
    }
   ],
   "source": [
    "\"\"\"\n",
    "Re-running analysis on missed API calls\n",
    "\"\"\"\n",
    "recall_rows = []\n",
    "\n",
    "for img_ind in errors:\n",
    "    row = df[df['image_index'] == img_ind]\n",
    "    lat = float(row['latitiude'])\n",
    "    lon = float(row['longitude'])\n",
    "    print(f\"Re-running img-{img_ind}, ({lat:.2f}, {lon:.2f})\")\n",
    "\n",
    "    print(f\"Re-running img-{img_ind}, ({lat:.2f}, {lon:.2f})\")\n",
    "\n",
    "    result = cg.coordinates(x=lon, y=lat)\n",
    "    cenrow = result['Census Tracts'][0]\n",
    "    cenrow['image_index'] = row['image_index']\n",
    "    recall_rows.append(cenrow)\n",
    "\n",
    "\n",
    "recall_df = pd.DataFrame(recall_rows)\n",
    "print(recall_df.shape)\n",
    "recall_df.head()"
   ]
  },
  {
   "cell_type": "code",
   "execution_count": 8,
   "metadata": {
    "tags": []
   },
   "outputs": [
    {
     "output_type": "stream",
     "name": "stdout",
     "text": "(5964, 20)\n"
    },
    {
     "output_type": "execute_result",
     "data": {
      "text/plain": "         GEOID      CENTLAT  AREAWATER STATE BASENAME              OID LSADC  \\\n0  26093732100  +42.4668888    2523811    26     7321   20755283161773    CT   \n1  26093732100  +42.4668888    2523811    26     7321   20755283161773    CT   \n2  26093732100  +42.4668888    2523811    26     7321   20755283161773    CT   \n3  26093733601  +42.4429685    2140691    26  7336.01  207553707208141    CT   \n4  26093733601  +42.4429685    2140691    26  7336.01  207553707208141    CT   \n\n  FUNCSTAT     INTPTLAT                  NAME  OBJECTID   TRACT       CENTLON  \\\n0        S  +42.4719749     Census Tract 7321     57380  732100  -084.0832452   \n1        S  +42.4719749     Census Tract 7321     57380  732100  -084.0832452   \n2        S  +42.4719749     Census Tract 7321     57380  732100  -084.0832452   \n3        S  +42.4443155  Census Tract 7336.01     31152  733601  -083.9803529   \n4        S  +42.4443155  Census Tract 7336.01     31152  733601  -083.9803529   \n\n   AREALAND      INTPTLON  MTFCC COUNTY                       CENT  \\\n0  87423741  -084.0745650  G5020    093  (-84.0832452, 42.4668888)   \n1  87423741  -084.0745650  G5020    093  (-84.0832452, 42.4668888)   \n2  87423741  -084.0745650  G5020    093  (-84.0832452, 42.4668888)   \n3  30603912  -083.9805350  G5020    093  (-83.9803529, 42.4429685)   \n4  30603912  -083.9805350  G5020    093  (-83.9803529, 42.4429685)   \n\n                      INTPT  image_index  \n0  (-84.074565, 42.4719749)            0  \n1  (-84.074565, 42.4719749)            1  \n2  (-84.074565, 42.4719749)           10  \n3  (-83.980535, 42.4443155)          100  \n4  (-83.980535, 42.4443155)          101  ",
      "text/html": "<div>\n<style scoped>\n    .dataframe tbody tr th:only-of-type {\n        vertical-align: middle;\n    }\n\n    .dataframe tbody tr th {\n        vertical-align: top;\n    }\n\n    .dataframe thead th {\n        text-align: right;\n    }\n</style>\n<table border=\"1\" class=\"dataframe\">\n  <thead>\n    <tr style=\"text-align: right;\">\n      <th></th>\n      <th>GEOID</th>\n      <th>CENTLAT</th>\n      <th>AREAWATER</th>\n      <th>STATE</th>\n      <th>BASENAME</th>\n      <th>OID</th>\n      <th>LSADC</th>\n      <th>FUNCSTAT</th>\n      <th>INTPTLAT</th>\n      <th>NAME</th>\n      <th>OBJECTID</th>\n      <th>TRACT</th>\n      <th>CENTLON</th>\n      <th>AREALAND</th>\n      <th>INTPTLON</th>\n      <th>MTFCC</th>\n      <th>COUNTY</th>\n      <th>CENT</th>\n      <th>INTPT</th>\n      <th>image_index</th>\n    </tr>\n  </thead>\n  <tbody>\n    <tr>\n      <th>0</th>\n      <td>26093732100</td>\n      <td>+42.4668888</td>\n      <td>2523811</td>\n      <td>26</td>\n      <td>7321</td>\n      <td>20755283161773</td>\n      <td>CT</td>\n      <td>S</td>\n      <td>+42.4719749</td>\n      <td>Census Tract 7321</td>\n      <td>57380</td>\n      <td>732100</td>\n      <td>-084.0832452</td>\n      <td>87423741</td>\n      <td>-084.0745650</td>\n      <td>G5020</td>\n      <td>093</td>\n      <td>(-84.0832452, 42.4668888)</td>\n      <td>(-84.074565, 42.4719749)</td>\n      <td>0</td>\n    </tr>\n    <tr>\n      <th>1</th>\n      <td>26093732100</td>\n      <td>+42.4668888</td>\n      <td>2523811</td>\n      <td>26</td>\n      <td>7321</td>\n      <td>20755283161773</td>\n      <td>CT</td>\n      <td>S</td>\n      <td>+42.4719749</td>\n      <td>Census Tract 7321</td>\n      <td>57380</td>\n      <td>732100</td>\n      <td>-084.0832452</td>\n      <td>87423741</td>\n      <td>-084.0745650</td>\n      <td>G5020</td>\n      <td>093</td>\n      <td>(-84.0832452, 42.4668888)</td>\n      <td>(-84.074565, 42.4719749)</td>\n      <td>1</td>\n    </tr>\n    <tr>\n      <th>2</th>\n      <td>26093732100</td>\n      <td>+42.4668888</td>\n      <td>2523811</td>\n      <td>26</td>\n      <td>7321</td>\n      <td>20755283161773</td>\n      <td>CT</td>\n      <td>S</td>\n      <td>+42.4719749</td>\n      <td>Census Tract 7321</td>\n      <td>57380</td>\n      <td>732100</td>\n      <td>-084.0832452</td>\n      <td>87423741</td>\n      <td>-084.0745650</td>\n      <td>G5020</td>\n      <td>093</td>\n      <td>(-84.0832452, 42.4668888)</td>\n      <td>(-84.074565, 42.4719749)</td>\n      <td>10</td>\n    </tr>\n    <tr>\n      <th>3</th>\n      <td>26093733601</td>\n      <td>+42.4429685</td>\n      <td>2140691</td>\n      <td>26</td>\n      <td>7336.01</td>\n      <td>207553707208141</td>\n      <td>CT</td>\n      <td>S</td>\n      <td>+42.4443155</td>\n      <td>Census Tract 7336.01</td>\n      <td>31152</td>\n      <td>733601</td>\n      <td>-083.9803529</td>\n      <td>30603912</td>\n      <td>-083.9805350</td>\n      <td>G5020</td>\n      <td>093</td>\n      <td>(-83.9803529, 42.4429685)</td>\n      <td>(-83.980535, 42.4443155)</td>\n      <td>100</td>\n    </tr>\n    <tr>\n      <th>4</th>\n      <td>26093733601</td>\n      <td>+42.4429685</td>\n      <td>2140691</td>\n      <td>26</td>\n      <td>7336.01</td>\n      <td>207553707208141</td>\n      <td>CT</td>\n      <td>S</td>\n      <td>+42.4443155</td>\n      <td>Census Tract 7336.01</td>\n      <td>31152</td>\n      <td>733601</td>\n      <td>-083.9803529</td>\n      <td>30603912</td>\n      <td>-083.9805350</td>\n      <td>G5020</td>\n      <td>093</td>\n      <td>(-83.9803529, 42.4429685)</td>\n      <td>(-83.980535, 42.4443155)</td>\n      <td>101</td>\n    </tr>\n  </tbody>\n</table>\n</div>"
     },
     "metadata": {},
     "execution_count": 8
    }
   ],
   "source": [
    "tmp = pd.concat([census_df, recall_df])\n",
    "print(tmp.shape)\n",
    "tmp.to_csv(f'{BENCH}_{VINT}_by_image.csv')\n",
    "\n",
    "tmp.head()"
   ]
  },
  {
   "cell_type": "code",
   "execution_count": 9,
   "metadata": {},
   "outputs": [
    {
     "output_type": "execute_result",
     "data": {
      "text/plain": "GEOID          object\nCENTLAT        object\nAREAWATER       int64\nSTATE          object\nBASENAME       object\nOID             int64\nLSADC          object\nFUNCSTAT       object\nINTPTLAT       object\nNAME           object\nOBJECTID        int64\nTRACT          object\nCENTLON        object\nAREALAND        int64\nINTPTLON       object\nMTFCC          object\nCOUNTY         object\nCENT           object\nINTPT          object\nimage_index     int64\ndtype: object"
     },
     "metadata": {},
     "execution_count": 9
    }
   ],
   "source": [
    "tmp['image_index'] = tmp['image_index'].astype(int)\n",
    "tmp.dtypes"
   ]
  },
  {
   "cell_type": "code",
   "execution_count": 10,
   "metadata": {
    "tags": []
   },
   "outputs": [
    {
     "output_type": "stream",
     "name": "stdout",
     "text": "(5964, 38)\nIndex(['Unnamed: 0', 'file', 'county_x', 'labels', 'label_scores', 'colors',\n       'color_pixel_fraction', 'color_scores', 'chunk', 'chunk_index',\n       'image_index', 'latitiude', 'longitude', 'projection', 'resolution',\n       'metadata', 'county_y', 'window_size', 'chunk_file', 'GEOID', 'CENTLAT',\n       'AREAWATER', 'STATE', 'BASENAME', 'OID', 'LSADC', 'FUNCSTAT',\n       'INTPTLAT', 'NAME', 'OBJECTID', 'TRACT', 'CENTLON', 'AREALAND',\n       'INTPTLON', 'MTFCC', 'COUNTY', 'CENT', 'INTPT', 'Census_Benchmark',\n       'Census_Vintage'],\n      dtype='object')\n"
    },
    {
     "output_type": "execute_result",
     "data": {
      "text/plain": "   Unnamed: 0                                               file   county_x  \\\n0           0  /Volumes/Cooper_TB_Drive/research/readmissions...  Washtenaw   \n1           1  /Volumes/Cooper_TB_Drive/research/readmissions...  Washtenaw   \n2           2  /Volumes/Cooper_TB_Drive/research/readmissions...  Washtenaw   \n3           3  /Volumes/Cooper_TB_Drive/research/readmissions...  Washtenaw   \n4           4  /Volumes/Cooper_TB_Drive/research/readmissions...  Washtenaw   \n\n                       labels  \\\n0  ['White', 'Black', 'Line']   \n1  ['White', 'Black', 'Line']   \n2  ['White', 'Black', 'Line']   \n3  ['White', 'Black', 'Line']   \n4  ['White', 'Black', 'Line']   \n\n                                        label_scores             colors  \\\n0  [0.9736676812171936, 0.9484156370162964, 0.787...  [(255, 255, 255)]   \n1  [0.9736676812171936, 0.9484156370162964, 0.787...  [(255, 255, 255)]   \n2  [0.9736676812171936, 0.9484156370162964, 0.787...  [(255, 255, 255)]   \n3  [0.9736676812171936, 0.9484156370162964, 0.787...  [(255, 255, 255)]   \n4  [0.9736676812171936, 0.9484156370162964, 0.787...  [(255, 255, 255)]   \n\n  color_pixel_fraction color_scores  chunk  chunk_index  ...   TRACT  \\\n0                [1.0]        [1.0]      1            0  ...  732100   \n1                [1.0]        [1.0]      1            1  ...  732100   \n2                [1.0]        [1.0]      1           10  ...  732100   \n3                [1.0]        [1.0]      1          100  ...  733601   \n4                [1.0]        [1.0]      1          101  ...  733601   \n\n        CENTLON  AREALAND      INTPTLON  MTFCC COUNTY  \\\n0  -084.0832452  87423741  -084.0745650  G5020    093   \n1  -084.0832452  87423741  -084.0745650  G5020    093   \n2  -084.0832452  87423741  -084.0745650  G5020    093   \n3  -083.9803529  30603912  -083.9805350  G5020    093   \n4  -083.9803529  30603912  -083.9805350  G5020    093   \n\n                        CENT                     INTPT   Census_Benchmark  \\\n0  (-84.0832452, 42.4668888)  (-84.074565, 42.4719749)  Public_AR_Current   \n1  (-84.0832452, 42.4668888)  (-84.074565, 42.4719749)  Public_AR_Current   \n2  (-84.0832452, 42.4668888)  (-84.074565, 42.4719749)  Public_AR_Current   \n3  (-83.9803529, 42.4429685)  (-83.980535, 42.4443155)  Public_AR_Current   \n4  (-83.9803529, 42.4429685)  (-83.980535, 42.4443155)  Public_AR_Current   \n\n    Census_Vintage  \n0  ACS2015_Current  \n1  ACS2015_Current  \n2  ACS2015_Current  \n3  ACS2015_Current  \n4  ACS2015_Current  \n\n[5 rows x 40 columns]",
      "text/html": "<div>\n<style scoped>\n    .dataframe tbody tr th:only-of-type {\n        vertical-align: middle;\n    }\n\n    .dataframe tbody tr th {\n        vertical-align: top;\n    }\n\n    .dataframe thead th {\n        text-align: right;\n    }\n</style>\n<table border=\"1\" class=\"dataframe\">\n  <thead>\n    <tr style=\"text-align: right;\">\n      <th></th>\n      <th>Unnamed: 0</th>\n      <th>file</th>\n      <th>county_x</th>\n      <th>labels</th>\n      <th>label_scores</th>\n      <th>colors</th>\n      <th>color_pixel_fraction</th>\n      <th>color_scores</th>\n      <th>chunk</th>\n      <th>chunk_index</th>\n      <th>...</th>\n      <th>TRACT</th>\n      <th>CENTLON</th>\n      <th>AREALAND</th>\n      <th>INTPTLON</th>\n      <th>MTFCC</th>\n      <th>COUNTY</th>\n      <th>CENT</th>\n      <th>INTPT</th>\n      <th>Census_Benchmark</th>\n      <th>Census_Vintage</th>\n    </tr>\n  </thead>\n  <tbody>\n    <tr>\n      <th>0</th>\n      <td>0</td>\n      <td>/Volumes/Cooper_TB_Drive/research/readmissions...</td>\n      <td>Washtenaw</td>\n      <td>['White', 'Black', 'Line']</td>\n      <td>[0.9736676812171936, 0.9484156370162964, 0.787...</td>\n      <td>[(255, 255, 255)]</td>\n      <td>[1.0]</td>\n      <td>[1.0]</td>\n      <td>1</td>\n      <td>0</td>\n      <td>...</td>\n      <td>732100</td>\n      <td>-084.0832452</td>\n      <td>87423741</td>\n      <td>-084.0745650</td>\n      <td>G5020</td>\n      <td>093</td>\n      <td>(-84.0832452, 42.4668888)</td>\n      <td>(-84.074565, 42.4719749)</td>\n      <td>Public_AR_Current</td>\n      <td>ACS2015_Current</td>\n    </tr>\n    <tr>\n      <th>1</th>\n      <td>1</td>\n      <td>/Volumes/Cooper_TB_Drive/research/readmissions...</td>\n      <td>Washtenaw</td>\n      <td>['White', 'Black', 'Line']</td>\n      <td>[0.9736676812171936, 0.9484156370162964, 0.787...</td>\n      <td>[(255, 255, 255)]</td>\n      <td>[1.0]</td>\n      <td>[1.0]</td>\n      <td>1</td>\n      <td>1</td>\n      <td>...</td>\n      <td>732100</td>\n      <td>-084.0832452</td>\n      <td>87423741</td>\n      <td>-084.0745650</td>\n      <td>G5020</td>\n      <td>093</td>\n      <td>(-84.0832452, 42.4668888)</td>\n      <td>(-84.074565, 42.4719749)</td>\n      <td>Public_AR_Current</td>\n      <td>ACS2015_Current</td>\n    </tr>\n    <tr>\n      <th>2</th>\n      <td>2</td>\n      <td>/Volumes/Cooper_TB_Drive/research/readmissions...</td>\n      <td>Washtenaw</td>\n      <td>['White', 'Black', 'Line']</td>\n      <td>[0.9736676812171936, 0.9484156370162964, 0.787...</td>\n      <td>[(255, 255, 255)]</td>\n      <td>[1.0]</td>\n      <td>[1.0]</td>\n      <td>1</td>\n      <td>10</td>\n      <td>...</td>\n      <td>732100</td>\n      <td>-084.0832452</td>\n      <td>87423741</td>\n      <td>-084.0745650</td>\n      <td>G5020</td>\n      <td>093</td>\n      <td>(-84.0832452, 42.4668888)</td>\n      <td>(-84.074565, 42.4719749)</td>\n      <td>Public_AR_Current</td>\n      <td>ACS2015_Current</td>\n    </tr>\n    <tr>\n      <th>3</th>\n      <td>3</td>\n      <td>/Volumes/Cooper_TB_Drive/research/readmissions...</td>\n      <td>Washtenaw</td>\n      <td>['White', 'Black', 'Line']</td>\n      <td>[0.9736676812171936, 0.9484156370162964, 0.787...</td>\n      <td>[(255, 255, 255)]</td>\n      <td>[1.0]</td>\n      <td>[1.0]</td>\n      <td>1</td>\n      <td>100</td>\n      <td>...</td>\n      <td>733601</td>\n      <td>-083.9803529</td>\n      <td>30603912</td>\n      <td>-083.9805350</td>\n      <td>G5020</td>\n      <td>093</td>\n      <td>(-83.9803529, 42.4429685)</td>\n      <td>(-83.980535, 42.4443155)</td>\n      <td>Public_AR_Current</td>\n      <td>ACS2015_Current</td>\n    </tr>\n    <tr>\n      <th>4</th>\n      <td>4</td>\n      <td>/Volumes/Cooper_TB_Drive/research/readmissions...</td>\n      <td>Washtenaw</td>\n      <td>['White', 'Black', 'Line']</td>\n      <td>[0.9736676812171936, 0.9484156370162964, 0.787...</td>\n      <td>[(255, 255, 255)]</td>\n      <td>[1.0]</td>\n      <td>[1.0]</td>\n      <td>1</td>\n      <td>101</td>\n      <td>...</td>\n      <td>733601</td>\n      <td>-083.9803529</td>\n      <td>30603912</td>\n      <td>-083.9805350</td>\n      <td>G5020</td>\n      <td>093</td>\n      <td>(-83.9803529, 42.4429685)</td>\n      <td>(-83.980535, 42.4443155)</td>\n      <td>Public_AR_Current</td>\n      <td>ACS2015_Current</td>\n    </tr>\n  </tbody>\n</table>\n<p>5 rows × 40 columns</p>\n</div>"
     },
     "metadata": {},
     "execution_count": 10
    }
   ],
   "source": [
    "merged = df.merge(tmp, how='left', on='image_index')\n",
    "print(merged.shape)\n",
    "merged['Census_Benchmark'] = BENCH\n",
    "merged['Census_Vintage'] = VINT\n",
    "print(merged.columns)\n",
    "merged.to_csv('CLEAN_DATA.csv', index=False)\n",
    "merged.head()"
   ]
  },
  {
   "cell_type": "code",
   "execution_count": null,
   "metadata": {},
   "outputs": [],
   "source": []
  }
 ]
}