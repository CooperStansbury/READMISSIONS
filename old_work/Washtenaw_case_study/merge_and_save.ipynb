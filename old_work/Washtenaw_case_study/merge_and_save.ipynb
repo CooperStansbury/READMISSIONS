{
 "metadata": {
  "language_info": {
   "codemirror_mode": {
    "name": "ipython",
    "version": 3
   },
   "file_extension": ".py",
   "mimetype": "text/x-python",
   "name": "python",
   "nbconvert_exporter": "python",
   "pygments_lexer": "ipython3",
   "version": "3.7.6-final"
  },
  "orig_nbformat": 2,
  "kernelspec": {
   "name": "python3",
   "display_name": "Python 3"
  }
 },
 "nbformat": 4,
 "nbformat_minor": 2,
 "cells": [
  {
   "cell_type": "code",
   "execution_count": 2,
   "metadata": {},
   "outputs": [],
   "source": [
    "import pandas as pd\n",
    "import numpy as np\n",
    "import os"
   ]
  },
  {
   "cell_type": "code",
   "execution_count": 3,
   "metadata": {
    "tags": []
   },
   "outputs": [
    {
     "output_type": "stream",
     "name": "stdout",
     "text": "(5964, 7)\n"
    },
    {
     "output_type": "execute_result",
     "data": {
      "text/plain": "                                                file     county  \\\n0  /Volumes/Cooper_TB_Drive/research/readmissions...  Washtenaw   \n1  /Volumes/Cooper_TB_Drive/research/readmissions...  Washtenaw   \n2  /Volumes/Cooper_TB_Drive/research/readmissions...  Washtenaw   \n3  /Volumes/Cooper_TB_Drive/research/readmissions...  Washtenaw   \n4  /Volumes/Cooper_TB_Drive/research/readmissions...  Washtenaw   \n\n                       labels  \\\n0  ['White', 'Black', 'Line']   \n1  ['White', 'Black', 'Line']   \n2  ['White', 'Black', 'Line']   \n3  ['White', 'Black', 'Line']   \n4  ['White', 'Black', 'Line']   \n\n                                        label_scores             colors  \\\n0  [0.9736676812171936, 0.9484156370162964, 0.787...  [(255, 255, 255)]   \n1  [0.9736676812171936, 0.9484156370162964, 0.787...  [(255, 255, 255)]   \n2  [0.9736676812171936, 0.9484156370162964, 0.787...  [(255, 255, 255)]   \n3  [0.9736676812171936, 0.9484156370162964, 0.787...  [(255, 255, 255)]   \n4  [0.9736676812171936, 0.9484156370162964, 0.787...  [(255, 255, 255)]   \n\n  color_pixel_fraction color_scores  \n0                [1.0]        [1.0]  \n1                [1.0]        [1.0]  \n2                [1.0]        [1.0]  \n3                [1.0]        [1.0]  \n4                [1.0]        [1.0]  ",
      "text/html": "<div>\n<style scoped>\n    .dataframe tbody tr th:only-of-type {\n        vertical-align: middle;\n    }\n\n    .dataframe tbody tr th {\n        vertical-align: top;\n    }\n\n    .dataframe thead th {\n        text-align: right;\n    }\n</style>\n<table border=\"1\" class=\"dataframe\">\n  <thead>\n    <tr style=\"text-align: right;\">\n      <th></th>\n      <th>file</th>\n      <th>county</th>\n      <th>labels</th>\n      <th>label_scores</th>\n      <th>colors</th>\n      <th>color_pixel_fraction</th>\n      <th>color_scores</th>\n    </tr>\n  </thead>\n  <tbody>\n    <tr>\n      <th>0</th>\n      <td>/Volumes/Cooper_TB_Drive/research/readmissions...</td>\n      <td>Washtenaw</td>\n      <td>['White', 'Black', 'Line']</td>\n      <td>[0.9736676812171936, 0.9484156370162964, 0.787...</td>\n      <td>[(255, 255, 255)]</td>\n      <td>[1.0]</td>\n      <td>[1.0]</td>\n    </tr>\n    <tr>\n      <th>1</th>\n      <td>/Volumes/Cooper_TB_Drive/research/readmissions...</td>\n      <td>Washtenaw</td>\n      <td>['White', 'Black', 'Line']</td>\n      <td>[0.9736676812171936, 0.9484156370162964, 0.787...</td>\n      <td>[(255, 255, 255)]</td>\n      <td>[1.0]</td>\n      <td>[1.0]</td>\n    </tr>\n    <tr>\n      <th>2</th>\n      <td>/Volumes/Cooper_TB_Drive/research/readmissions...</td>\n      <td>Washtenaw</td>\n      <td>['White', 'Black', 'Line']</td>\n      <td>[0.9736676812171936, 0.9484156370162964, 0.787...</td>\n      <td>[(255, 255, 255)]</td>\n      <td>[1.0]</td>\n      <td>[1.0]</td>\n    </tr>\n    <tr>\n      <th>3</th>\n      <td>/Volumes/Cooper_TB_Drive/research/readmissions...</td>\n      <td>Washtenaw</td>\n      <td>['White', 'Black', 'Line']</td>\n      <td>[0.9736676812171936, 0.9484156370162964, 0.787...</td>\n      <td>[(255, 255, 255)]</td>\n      <td>[1.0]</td>\n      <td>[1.0]</td>\n    </tr>\n    <tr>\n      <th>4</th>\n      <td>/Volumes/Cooper_TB_Drive/research/readmissions...</td>\n      <td>Washtenaw</td>\n      <td>['White', 'Black', 'Line']</td>\n      <td>[0.9736676812171936, 0.9484156370162964, 0.787...</td>\n      <td>[(255, 255, 255)]</td>\n      <td>[1.0]</td>\n      <td>[1.0]</td>\n    </tr>\n  </tbody>\n</table>\n</div>"
     },
     "metadata": {},
     "execution_count": 3
    }
   ],
   "source": [
    "FEATURES_DIR = \"/Volumes/Cooper_TB_Drive/research/readmissions/google_features/\"\n",
    "\n",
    "frames = []\n",
    "\n",
    "for goog_feats in os.listdir(FEATURES_DIR):\n",
    "    if '.csv' in goog_feats:\n",
    "        f_path = f\"{FEATURES_DIR}{goog_feats}\"\n",
    "        tmp = pd.read_csv(f_path)\n",
    "        frames.append(tmp)\n",
    "\n",
    "df = pd.concat(frames)\n",
    "print(df.shape)\n",
    "df.head()"
   ]
  },
  {
   "cell_type": "code",
   "execution_count": 4,
   "metadata": {
    "tags": []
   },
   "outputs": [
    {
     "output_type": "stream",
     "name": "stdout",
     "text": "5963\n"
    },
    {
     "output_type": "execute_result",
     "data": {
      "text/plain": "                                                file     county  \\\n0  /Volumes/Cooper_TB_Drive/research/readmissions...  Washtenaw   \n1  /Volumes/Cooper_TB_Drive/research/readmissions...  Washtenaw   \n2  /Volumes/Cooper_TB_Drive/research/readmissions...  Washtenaw   \n3  /Volumes/Cooper_TB_Drive/research/readmissions...  Washtenaw   \n4  /Volumes/Cooper_TB_Drive/research/readmissions...  Washtenaw   \n\n                       labels  \\\n0  ['White', 'Black', 'Line']   \n1  ['White', 'Black', 'Line']   \n2  ['White', 'Black', 'Line']   \n3  ['White', 'Black', 'Line']   \n4  ['White', 'Black', 'Line']   \n\n                                        label_scores             colors  \\\n0  [0.9736676812171936, 0.9484156370162964, 0.787...  [(255, 255, 255)]   \n1  [0.9736676812171936, 0.9484156370162964, 0.787...  [(255, 255, 255)]   \n2  [0.9736676812171936, 0.9484156370162964, 0.787...  [(255, 255, 255)]   \n3  [0.9736676812171936, 0.9484156370162964, 0.787...  [(255, 255, 255)]   \n4  [0.9736676812171936, 0.9484156370162964, 0.787...  [(255, 255, 255)]   \n\n  color_pixel_fraction color_scores  chunk  chunk_index  image_index  \n0                [1.0]        [1.0]      1            0            0  \n1                [1.0]        [1.0]      1            1            1  \n2                [1.0]        [1.0]      1           10           10  \n3                [1.0]        [1.0]      1          100          100  \n4                [1.0]        [1.0]      1          101          101  ",
      "text/html": "<div>\n<style scoped>\n    .dataframe tbody tr th:only-of-type {\n        vertical-align: middle;\n    }\n\n    .dataframe tbody tr th {\n        vertical-align: top;\n    }\n\n    .dataframe thead th {\n        text-align: right;\n    }\n</style>\n<table border=\"1\" class=\"dataframe\">\n  <thead>\n    <tr style=\"text-align: right;\">\n      <th></th>\n      <th>file</th>\n      <th>county</th>\n      <th>labels</th>\n      <th>label_scores</th>\n      <th>colors</th>\n      <th>color_pixel_fraction</th>\n      <th>color_scores</th>\n      <th>chunk</th>\n      <th>chunk_index</th>\n      <th>image_index</th>\n    </tr>\n  </thead>\n  <tbody>\n    <tr>\n      <th>0</th>\n      <td>/Volumes/Cooper_TB_Drive/research/readmissions...</td>\n      <td>Washtenaw</td>\n      <td>['White', 'Black', 'Line']</td>\n      <td>[0.9736676812171936, 0.9484156370162964, 0.787...</td>\n      <td>[(255, 255, 255)]</td>\n      <td>[1.0]</td>\n      <td>[1.0]</td>\n      <td>1</td>\n      <td>0</td>\n      <td>0</td>\n    </tr>\n    <tr>\n      <th>1</th>\n      <td>/Volumes/Cooper_TB_Drive/research/readmissions...</td>\n      <td>Washtenaw</td>\n      <td>['White', 'Black', 'Line']</td>\n      <td>[0.9736676812171936, 0.9484156370162964, 0.787...</td>\n      <td>[(255, 255, 255)]</td>\n      <td>[1.0]</td>\n      <td>[1.0]</td>\n      <td>1</td>\n      <td>1</td>\n      <td>1</td>\n    </tr>\n    <tr>\n      <th>2</th>\n      <td>/Volumes/Cooper_TB_Drive/research/readmissions...</td>\n      <td>Washtenaw</td>\n      <td>['White', 'Black', 'Line']</td>\n      <td>[0.9736676812171936, 0.9484156370162964, 0.787...</td>\n      <td>[(255, 255, 255)]</td>\n      <td>[1.0]</td>\n      <td>[1.0]</td>\n      <td>1</td>\n      <td>10</td>\n      <td>10</td>\n    </tr>\n    <tr>\n      <th>3</th>\n      <td>/Volumes/Cooper_TB_Drive/research/readmissions...</td>\n      <td>Washtenaw</td>\n      <td>['White', 'Black', 'Line']</td>\n      <td>[0.9736676812171936, 0.9484156370162964, 0.787...</td>\n      <td>[(255, 255, 255)]</td>\n      <td>[1.0]</td>\n      <td>[1.0]</td>\n      <td>1</td>\n      <td>100</td>\n      <td>100</td>\n    </tr>\n    <tr>\n      <th>4</th>\n      <td>/Volumes/Cooper_TB_Drive/research/readmissions...</td>\n      <td>Washtenaw</td>\n      <td>['White', 'Black', 'Line']</td>\n      <td>[0.9736676812171936, 0.9484156370162964, 0.787...</td>\n      <td>[(255, 255, 255)]</td>\n      <td>[1.0]</td>\n      <td>[1.0]</td>\n      <td>1</td>\n      <td>101</td>\n      <td>101</td>\n    </tr>\n  </tbody>\n</table>\n</div>"
     },
     "metadata": {},
     "execution_count": 4
    }
   ],
   "source": [
    "\"\"\"\n",
    "let's get the image indexes added as a column\n",
    "\"\"\"\n",
    "\n",
    "def get_chunk(row):\n",
    "    \"\"\" extract chunk ID \"\"\"\n",
    "    str_stub = row['file'].split(\"chunk_\")[1]\n",
    "    chunk = int(str_stub[0])\n",
    "    chunk_index = int(str_stub.split('img_')[1].replace(\".png\", \"\"))\n",
    "\n",
    "    img_index = ((chunk - 1) * 1000) + chunk_index\n",
    "\n",
    "    row['chunk'] = chunk\n",
    "    row['chunk_index'] = chunk_index\n",
    "    row['image_index'] = img_index\n",
    "    return row\n",
    "\n",
    "\n",
    "df = df.apply(lambda row: get_chunk(row), axis=1)\n",
    "print(df.image_index.max())\n",
    "df.head()"
   ]
  },
  {
   "cell_type": "code",
   "execution_count": 5,
   "metadata": {
    "tags": []
   },
   "outputs": [
    {
     "output_type": "stream",
     "name": "stdout",
     "text": "(5964, 9)\n5963\n"
    },
    {
     "output_type": "execute_result",
     "data": {
      "text/plain": "      image_index  latitiude  longitude projection  resolution  \\\n5959         5959  42.055520 -83.558738  EPSG:2898  (2.0, 2.0)   \n5960         5960  42.055467 -83.551374  EPSG:2898  (2.0, 2.0)   \n5961         5961  42.055414 -83.544010  EPSG:2898  (2.0, 2.0)   \n5962         5962  42.055360 -83.536647  EPSG:2898  (2.0, 2.0)   \n5963         5963  42.055305 -83.529283  EPSG:2898  (2.0, 2.0)   \n\n                                               metadata     county  \\\n5959  {'driver': 'GTiff', 'dtype': 'uint8', 'nodata'...  Washtenaw   \n5960  {'driver': 'GTiff', 'dtype': 'uint8', 'nodata'...  Washtenaw   \n5961  {'driver': 'GTiff', 'dtype': 'uint8', 'nodata'...  Washtenaw   \n5962  {'driver': 'GTiff', 'dtype': 'uint8', 'nodata'...  Washtenaw   \n5963  {'driver': 'GTiff', 'dtype': 'uint8', 'nodata'...  Washtenaw   \n\n      window_size  chunk_file  \n5959         1000           6  \n5960         1000           6  \n5961         1000           6  \n5962         1000           6  \n5963         1000           6  ",
      "text/html": "<div>\n<style scoped>\n    .dataframe tbody tr th:only-of-type {\n        vertical-align: middle;\n    }\n\n    .dataframe tbody tr th {\n        vertical-align: top;\n    }\n\n    .dataframe thead th {\n        text-align: right;\n    }\n</style>\n<table border=\"1\" class=\"dataframe\">\n  <thead>\n    <tr style=\"text-align: right;\">\n      <th></th>\n      <th>image_index</th>\n      <th>latitiude</th>\n      <th>longitude</th>\n      <th>projection</th>\n      <th>resolution</th>\n      <th>metadata</th>\n      <th>county</th>\n      <th>window_size</th>\n      <th>chunk_file</th>\n    </tr>\n  </thead>\n  <tbody>\n    <tr>\n      <th>5959</th>\n      <td>5959</td>\n      <td>42.055520</td>\n      <td>-83.558738</td>\n      <td>EPSG:2898</td>\n      <td>(2.0, 2.0)</td>\n      <td>{'driver': 'GTiff', 'dtype': 'uint8', 'nodata'...</td>\n      <td>Washtenaw</td>\n      <td>1000</td>\n      <td>6</td>\n    </tr>\n    <tr>\n      <th>5960</th>\n      <td>5960</td>\n      <td>42.055467</td>\n      <td>-83.551374</td>\n      <td>EPSG:2898</td>\n      <td>(2.0, 2.0)</td>\n      <td>{'driver': 'GTiff', 'dtype': 'uint8', 'nodata'...</td>\n      <td>Washtenaw</td>\n      <td>1000</td>\n      <td>6</td>\n    </tr>\n    <tr>\n      <th>5961</th>\n      <td>5961</td>\n      <td>42.055414</td>\n      <td>-83.544010</td>\n      <td>EPSG:2898</td>\n      <td>(2.0, 2.0)</td>\n      <td>{'driver': 'GTiff', 'dtype': 'uint8', 'nodata'...</td>\n      <td>Washtenaw</td>\n      <td>1000</td>\n      <td>6</td>\n    </tr>\n    <tr>\n      <th>5962</th>\n      <td>5962</td>\n      <td>42.055360</td>\n      <td>-83.536647</td>\n      <td>EPSG:2898</td>\n      <td>(2.0, 2.0)</td>\n      <td>{'driver': 'GTiff', 'dtype': 'uint8', 'nodata'...</td>\n      <td>Washtenaw</td>\n      <td>1000</td>\n      <td>6</td>\n    </tr>\n    <tr>\n      <th>5963</th>\n      <td>5963</td>\n      <td>42.055305</td>\n      <td>-83.529283</td>\n      <td>EPSG:2898</td>\n      <td>(2.0, 2.0)</td>\n      <td>{'driver': 'GTiff', 'dtype': 'uint8', 'nodata'...</td>\n      <td>Washtenaw</td>\n      <td>1000</td>\n      <td>6</td>\n    </tr>\n  </tbody>\n</table>\n</div>"
     },
     "metadata": {},
     "execution_count": 5
    }
   ],
   "source": [
    "COORDINATES_PATH = \"/Volumes/Cooper_TB_Drive/research/readmissions/tile_files/Washtenaw_coordinate_map.csv\"\n",
    "\n",
    "coords_df = pd.read_csv(COORDINATES_PATH)\n",
    "print(coords_df.shape)\n",
    "print(coords_df['image_index'].max())\n",
    "coords_df.tail()"
   ]
  },
  {
   "cell_type": "code",
   "execution_count": 6,
   "metadata": {
    "tags": []
   },
   "outputs": [
    {
     "output_type": "stream",
     "name": "stdout",
     "text": "(5964, 18)\n"
    },
    {
     "output_type": "execute_result",
     "data": {
      "text/plain": "                                                file   county_x  \\\n0  /Volumes/Cooper_TB_Drive/research/readmissions...  Washtenaw   \n1  /Volumes/Cooper_TB_Drive/research/readmissions...  Washtenaw   \n2  /Volumes/Cooper_TB_Drive/research/readmissions...  Washtenaw   \n3  /Volumes/Cooper_TB_Drive/research/readmissions...  Washtenaw   \n4  /Volumes/Cooper_TB_Drive/research/readmissions...  Washtenaw   \n\n                       labels  \\\n0  ['White', 'Black', 'Line']   \n1  ['White', 'Black', 'Line']   \n2  ['White', 'Black', 'Line']   \n3  ['White', 'Black', 'Line']   \n4  ['White', 'Black', 'Line']   \n\n                                        label_scores             colors  \\\n0  [0.9736676812171936, 0.9484156370162964, 0.787...  [(255, 255, 255)]   \n1  [0.9736676812171936, 0.9484156370162964, 0.787...  [(255, 255, 255)]   \n2  [0.9736676812171936, 0.9484156370162964, 0.787...  [(255, 255, 255)]   \n3  [0.9736676812171936, 0.9484156370162964, 0.787...  [(255, 255, 255)]   \n4  [0.9736676812171936, 0.9484156370162964, 0.787...  [(255, 255, 255)]   \n\n  color_pixel_fraction color_scores  chunk  chunk_index  image_index  \\\n0                [1.0]        [1.0]      1            0            0   \n1                [1.0]        [1.0]      1            1            1   \n2                [1.0]        [1.0]      1           10           10   \n3                [1.0]        [1.0]      1          100          100   \n4                [1.0]        [1.0]      1          101          101   \n\n   latitiude  longitude projection  resolution  \\\n0  42.442355 -84.139114  EPSG:2898  (2.0, 2.0)   \n1  42.442340 -84.131704  EPSG:2898  (2.0, 2.0)   \n2  42.442182 -84.065016  EPSG:2898  (2.0, 2.0)   \n3  42.436567 -84.020588  EPSG:2898  (2.0, 2.0)   \n4  42.436545 -84.013179  EPSG:2898  (2.0, 2.0)   \n\n                                            metadata   county_y  window_size  \\\n0  {'driver': 'GTiff', 'dtype': 'uint8', 'nodata'...  Washtenaw         1000   \n1  {'driver': 'GTiff', 'dtype': 'uint8', 'nodata'...  Washtenaw         1000   \n2  {'driver': 'GTiff', 'dtype': 'uint8', 'nodata'...  Washtenaw         1000   \n3  {'driver': 'GTiff', 'dtype': 'uint8', 'nodata'...  Washtenaw         1000   \n4  {'driver': 'GTiff', 'dtype': 'uint8', 'nodata'...  Washtenaw         1000   \n\n   chunk_file  \n0           1  \n1           1  \n2           1  \n3           1  \n4           1  ",
      "text/html": "<div>\n<style scoped>\n    .dataframe tbody tr th:only-of-type {\n        vertical-align: middle;\n    }\n\n    .dataframe tbody tr th {\n        vertical-align: top;\n    }\n\n    .dataframe thead th {\n        text-align: right;\n    }\n</style>\n<table border=\"1\" class=\"dataframe\">\n  <thead>\n    <tr style=\"text-align: right;\">\n      <th></th>\n      <th>file</th>\n      <th>county_x</th>\n      <th>labels</th>\n      <th>label_scores</th>\n      <th>colors</th>\n      <th>color_pixel_fraction</th>\n      <th>color_scores</th>\n      <th>chunk</th>\n      <th>chunk_index</th>\n      <th>image_index</th>\n      <th>latitiude</th>\n      <th>longitude</th>\n      <th>projection</th>\n      <th>resolution</th>\n      <th>metadata</th>\n      <th>county_y</th>\n      <th>window_size</th>\n      <th>chunk_file</th>\n    </tr>\n  </thead>\n  <tbody>\n    <tr>\n      <th>0</th>\n      <td>/Volumes/Cooper_TB_Drive/research/readmissions...</td>\n      <td>Washtenaw</td>\n      <td>['White', 'Black', 'Line']</td>\n      <td>[0.9736676812171936, 0.9484156370162964, 0.787...</td>\n      <td>[(255, 255, 255)]</td>\n      <td>[1.0]</td>\n      <td>[1.0]</td>\n      <td>1</td>\n      <td>0</td>\n      <td>0</td>\n      <td>42.442355</td>\n      <td>-84.139114</td>\n      <td>EPSG:2898</td>\n      <td>(2.0, 2.0)</td>\n      <td>{'driver': 'GTiff', 'dtype': 'uint8', 'nodata'...</td>\n      <td>Washtenaw</td>\n      <td>1000</td>\n      <td>1</td>\n    </tr>\n    <tr>\n      <th>1</th>\n      <td>/Volumes/Cooper_TB_Drive/research/readmissions...</td>\n      <td>Washtenaw</td>\n      <td>['White', 'Black', 'Line']</td>\n      <td>[0.9736676812171936, 0.9484156370162964, 0.787...</td>\n      <td>[(255, 255, 255)]</td>\n      <td>[1.0]</td>\n      <td>[1.0]</td>\n      <td>1</td>\n      <td>1</td>\n      <td>1</td>\n      <td>42.442340</td>\n      <td>-84.131704</td>\n      <td>EPSG:2898</td>\n      <td>(2.0, 2.0)</td>\n      <td>{'driver': 'GTiff', 'dtype': 'uint8', 'nodata'...</td>\n      <td>Washtenaw</td>\n      <td>1000</td>\n      <td>1</td>\n    </tr>\n    <tr>\n      <th>2</th>\n      <td>/Volumes/Cooper_TB_Drive/research/readmissions...</td>\n      <td>Washtenaw</td>\n      <td>['White', 'Black', 'Line']</td>\n      <td>[0.9736676812171936, 0.9484156370162964, 0.787...</td>\n      <td>[(255, 255, 255)]</td>\n      <td>[1.0]</td>\n      <td>[1.0]</td>\n      <td>1</td>\n      <td>10</td>\n      <td>10</td>\n      <td>42.442182</td>\n      <td>-84.065016</td>\n      <td>EPSG:2898</td>\n      <td>(2.0, 2.0)</td>\n      <td>{'driver': 'GTiff', 'dtype': 'uint8', 'nodata'...</td>\n      <td>Washtenaw</td>\n      <td>1000</td>\n      <td>1</td>\n    </tr>\n    <tr>\n      <th>3</th>\n      <td>/Volumes/Cooper_TB_Drive/research/readmissions...</td>\n      <td>Washtenaw</td>\n      <td>['White', 'Black', 'Line']</td>\n      <td>[0.9736676812171936, 0.9484156370162964, 0.787...</td>\n      <td>[(255, 255, 255)]</td>\n      <td>[1.0]</td>\n      <td>[1.0]</td>\n      <td>1</td>\n      <td>100</td>\n      <td>100</td>\n      <td>42.436567</td>\n      <td>-84.020588</td>\n      <td>EPSG:2898</td>\n      <td>(2.0, 2.0)</td>\n      <td>{'driver': 'GTiff', 'dtype': 'uint8', 'nodata'...</td>\n      <td>Washtenaw</td>\n      <td>1000</td>\n      <td>1</td>\n    </tr>\n    <tr>\n      <th>4</th>\n      <td>/Volumes/Cooper_TB_Drive/research/readmissions...</td>\n      <td>Washtenaw</td>\n      <td>['White', 'Black', 'Line']</td>\n      <td>[0.9736676812171936, 0.9484156370162964, 0.787...</td>\n      <td>[(255, 255, 255)]</td>\n      <td>[1.0]</td>\n      <td>[1.0]</td>\n      <td>1</td>\n      <td>101</td>\n      <td>101</td>\n      <td>42.436545</td>\n      <td>-84.013179</td>\n      <td>EPSG:2898</td>\n      <td>(2.0, 2.0)</td>\n      <td>{'driver': 'GTiff', 'dtype': 'uint8', 'nodata'...</td>\n      <td>Washtenaw</td>\n      <td>1000</td>\n      <td>1</td>\n    </tr>\n  </tbody>\n</table>\n</div>"
     },
     "metadata": {},
     "execution_count": 6
    }
   ],
   "source": [
    "merged = df.merge(coords_df, how='left', on='image_index')\n",
    "print(merged.shape)\n",
    "merged.head()"
   ]
  },
  {
   "cell_type": "code",
   "execution_count": 7,
   "metadata": {},
   "outputs": [],
   "source": [
    "merged.to_csv(\"coords_and_feat.csv\")"
   ]
  },
  {
   "cell_type": "code",
   "execution_count": 72,
   "metadata": {
    "tags": []
   },
   "outputs": [
    {
     "output_type": "error",
     "ename": "ValueError",
     "evalue": "Unable to parse response from Census",
     "traceback": [
      "\u001b[0;31m---------------------------------------------------------------------------\u001b[0m",
      "\u001b[0;31mValueError\u001b[0m                                Traceback (most recent call last)",
      "\u001b[0;32m/opt/anaconda3/lib/python3.7/site-packages/censusgeocode/censusgeocode.py\u001b[0m in \u001b[0;36m_fetch\u001b[0;34m(self, searchtype, fields, **kwargs)\u001b[0m\n\u001b[1;32m    102\u001b[0m \u001b[0;34m\u001b[0m\u001b[0m\n\u001b[0;32m--> 103\u001b[0;31m                 \u001b[0;32mraise\u001b[0m \u001b[0mValueError\u001b[0m\u001b[0;34m(\u001b[0m\u001b[0;34m)\u001b[0m\u001b[0;34m\u001b[0m\u001b[0;34m\u001b[0m\u001b[0m\n\u001b[0m\u001b[1;32m    104\u001b[0m \u001b[0;34m\u001b[0m\u001b[0m\n",
      "\u001b[0;31mValueError\u001b[0m: ",
      "\nDuring handling of the above exception, another exception occurred:\n",
      "\u001b[0;31mValueError\u001b[0m                                Traceback (most recent call last)",
      "\u001b[0;32m<ipython-input-72-97dedcfe71f0>\u001b[0m in \u001b[0;36m<module>\u001b[0;34m\u001b[0m\n\u001b[1;32m      9\u001b[0m     \u001b[0mlat\u001b[0m \u001b[0;34m=\u001b[0m \u001b[0mrow\u001b[0m\u001b[0;34m[\u001b[0m\u001b[0;34m'latitiude'\u001b[0m\u001b[0;34m]\u001b[0m\u001b[0;34m\u001b[0m\u001b[0;34m\u001b[0m\u001b[0m\n\u001b[1;32m     10\u001b[0m     \u001b[0mlon\u001b[0m \u001b[0;34m=\u001b[0m \u001b[0mrow\u001b[0m\u001b[0;34m[\u001b[0m\u001b[0;34m'longitude'\u001b[0m\u001b[0;34m]\u001b[0m\u001b[0;34m\u001b[0m\u001b[0;34m\u001b[0m\u001b[0m\n\u001b[0;32m---> 11\u001b[0;31m     \u001b[0mresult\u001b[0m \u001b[0;34m=\u001b[0m \u001b[0mcg\u001b[0m\u001b[0;34m.\u001b[0m\u001b[0mcoordinates\u001b[0m\u001b[0;34m(\u001b[0m\u001b[0mx\u001b[0m\u001b[0;34m=\u001b[0m\u001b[0mlon\u001b[0m\u001b[0;34m,\u001b[0m \u001b[0my\u001b[0m\u001b[0;34m=\u001b[0m\u001b[0mlat\u001b[0m\u001b[0;34m)\u001b[0m\u001b[0;34m\u001b[0m\u001b[0;34m\u001b[0m\u001b[0m\n\u001b[0m\u001b[1;32m     12\u001b[0m     \u001b[0mprint\u001b[0m\u001b[0;34m(\u001b[0m\u001b[0mresult\u001b[0m\u001b[0;34m)\u001b[0m\u001b[0;34m\u001b[0m\u001b[0;34m\u001b[0m\u001b[0m\n",
      "\u001b[0;32m/opt/anaconda3/lib/python3.7/site-packages/censusgeocode/censusgeocode.py\u001b[0m in \u001b[0;36mcoordinates\u001b[0;34m(self, x, y, **kwargs)\u001b[0m\n\u001b[1;32m    117\u001b[0m         }\n\u001b[1;32m    118\u001b[0m \u001b[0;34m\u001b[0m\u001b[0m\n\u001b[0;32m--> 119\u001b[0;31m         \u001b[0;32mreturn\u001b[0m \u001b[0mself\u001b[0m\u001b[0;34m.\u001b[0m\u001b[0m_fetch\u001b[0m\u001b[0;34m(\u001b[0m\u001b[0;34m'coordinates'\u001b[0m\u001b[0;34m,\u001b[0m \u001b[0mfields\u001b[0m\u001b[0;34m,\u001b[0m \u001b[0;34m**\u001b[0m\u001b[0mkwargs\u001b[0m\u001b[0;34m)\u001b[0m\u001b[0;34m\u001b[0m\u001b[0;34m\u001b[0m\u001b[0m\n\u001b[0m\u001b[1;32m    120\u001b[0m \u001b[0;34m\u001b[0m\u001b[0m\n\u001b[1;32m    121\u001b[0m     \u001b[0;32mdef\u001b[0m \u001b[0maddress\u001b[0m\u001b[0;34m(\u001b[0m\u001b[0mself\u001b[0m\u001b[0;34m,\u001b[0m \u001b[0mstreet\u001b[0m\u001b[0;34m,\u001b[0m \u001b[0mcity\u001b[0m\u001b[0;34m=\u001b[0m\u001b[0;32mNone\u001b[0m\u001b[0;34m,\u001b[0m \u001b[0mstate\u001b[0m\u001b[0;34m=\u001b[0m\u001b[0;32mNone\u001b[0m\u001b[0;34m,\u001b[0m \u001b[0mzipcode\u001b[0m\u001b[0;34m=\u001b[0m\u001b[0;32mNone\u001b[0m\u001b[0;34m,\u001b[0m \u001b[0;34m**\u001b[0m\u001b[0mkwargs\u001b[0m\u001b[0;34m)\u001b[0m\u001b[0;34m:\u001b[0m\u001b[0;34m\u001b[0m\u001b[0;34m\u001b[0m\u001b[0m\n",
      "\u001b[0;32m/opt/anaconda3/lib/python3.7/site-packages/censusgeocode/censusgeocode.py\u001b[0m in \u001b[0;36m_fetch\u001b[0;34m(self, searchtype, fields, **kwargs)\u001b[0m\n\u001b[1;32m    104\u001b[0m \u001b[0;34m\u001b[0m\u001b[0m\n\u001b[1;32m    105\u001b[0m         \u001b[0;32mexcept\u001b[0m \u001b[0;34m(\u001b[0m\u001b[0mValueError\u001b[0m\u001b[0;34m,\u001b[0m \u001b[0mKeyError\u001b[0m\u001b[0;34m)\u001b[0m\u001b[0;34m:\u001b[0m\u001b[0;34m\u001b[0m\u001b[0;34m\u001b[0m\u001b[0m\n\u001b[0;32m--> 106\u001b[0;31m             \u001b[0;32mraise\u001b[0m \u001b[0mValueError\u001b[0m\u001b[0;34m(\u001b[0m\u001b[0;34m\"Unable to parse response from Census\"\u001b[0m\u001b[0;34m)\u001b[0m\u001b[0;34m\u001b[0m\u001b[0;34m\u001b[0m\u001b[0m\n\u001b[0m\u001b[1;32m    107\u001b[0m \u001b[0;34m\u001b[0m\u001b[0m\n\u001b[1;32m    108\u001b[0m         \u001b[0;32mexcept\u001b[0m \u001b[0mRequestException\u001b[0m \u001b[0;32mas\u001b[0m \u001b[0me\u001b[0m\u001b[0;34m:\u001b[0m\u001b[0;34m\u001b[0m\u001b[0;34m\u001b[0m\u001b[0m\n",
      "\u001b[0;31mValueError\u001b[0m: Unable to parse response from Census"
     ]
    }
   ],
   "source": []
  },
  {
   "cell_type": "code",
   "execution_count": null,
   "metadata": {},
   "outputs": [],
   "source": []
  }
 ]
}