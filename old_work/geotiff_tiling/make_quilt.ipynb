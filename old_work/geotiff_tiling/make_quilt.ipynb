{
 "metadata": {
  "language_info": {
   "codemirror_mode": {
    "name": "ipython",
    "version": 3
   },
   "file_extension": ".py",
   "mimetype": "text/x-python",
   "name": "python",
   "nbconvert_exporter": "python",
   "pygments_lexer": "ipython3",
   "version": "3.7.6-final"
  },
  "orig_nbformat": 2,
  "kernelspec": {
   "name": "python3",
   "display_name": "Python 3"
  }
 },
 "nbformat": 4,
 "nbformat_minor": 2,
 "cells": [
  {
   "cell_type": "code",
   "execution_count": 1,
   "metadata": {},
   "outputs": [],
   "source": [
    "import numpy as np\n",
    "import pandas as pd\n",
    "import os\n",
    "from importlib import reload\n",
    "import time\n",
    "import matplotlib.pyplot as plt\n",
    "import gc\n",
    "import memory_profiler as mem_profile\n",
    "from skimage.transform import resize\n",
    "\n",
    "import tiling_util"
   ]
  },
  {
   "cell_type": "code",
   "execution_count": 2,
   "metadata": {
    "tags": []
   },
   "outputs": [],
   "source": [
    "%load_ext memory_profiler"
   ]
  },
  {
   "cell_type": "code",
   "execution_count": 3,
   "metadata": {
    "tags": []
   },
   "outputs": [
    {
     "output_type": "execute_result",
     "data": {
      "text/plain": "dict_keys(['Livingston', 'Macomb', 'Monroe', 'Oakland', 'StClair', 'Washtenaw', 'Wayne'])"
     },
     "metadata": {},
     "execution_count": 3
    }
   ],
   "source": [
    "\"\"\"\n",
    "Build a dictionary with pointers to the geotiff files. Create simple labels.\n",
    "\"\"\"\n",
    "\n",
    "DIRPATH = '/Volumes/Cooper_TB_Drive/research/readmissions/geotiff_files/'\n",
    "\n",
    "FULL_GEOTIFFS = {}\n",
    "\n",
    "for file in os.listdir(DIRPATH):\n",
    "    if 'TILED' in file:\n",
    "        file_label = file.split(\"_\")[1]\n",
    "        full_path = DIRPATH + file\n",
    "        \n",
    "        mbldr = tiling_util.MosiacBuilder(full_path, builder_name=file_label)\n",
    "\n",
    "        record = {\n",
    "            'full_path':full_path,\n",
    "            'builder':mbldr\n",
    "        }\n",
    "\n",
    "        FULL_GEOTIFFS[file_label] = record\n",
    "\n",
    "FULL_GEOTIFFS.keys()"
   ]
  },
  {
   "cell_type": "code",
   "execution_count": 4,
   "metadata": {
    "tags": []
   },
   "outputs": [
    {
     "output_type": "stream",
     "name": "stdout",
     "text": "County: Livingston\n\tfull shape: (68398, 69395)\n\tnormalized size: 22.2807\n\tprojection: EPSG:2898\n\nCounty: Macomb\n\tfull shape: (86667, 56544)\n\tnormalized size: 22.3126\n\tprojection: PROJCS[\"IMAGINE GeoTIFF Support\nERDAS IMAGINE 2015  15.0.0.72\nProjection = Lambert Conformal Conic\",GEOGCS[\"Ellipsoid_GEM_10C\",DATUM[\"Ellipsoid_GEM_10C\",SPHEROID[\"GEM 10C\",6378137,298.257222096042,AUTHORITY[\"EPSG\",\"7031\"]]],PRIMEM[\"Greenwich\",0],UNIT[\"degree\",0.0174532925199433,AUTHORITY[\"EPSG\",\"9122\"]]],PROJECTION[\"Lambert_Conformal_Conic_2SP\"],PARAMETER[\"latitude_of_origin\",41.5],PARAMETER[\"central_meridian\",-84.3666666666667],PARAMETER[\"standard_parallel_1\",42.1],PARAMETER[\"standard_parallel_2\",43.6666666666667],PARAMETER[\"false_easting\",43055641.6668389],PARAMETER[\"false_northing\",0],UNIT[\"foot\",0.3048,AUTHORITY[\"EPSG\",\"9002\"]],AXIS[\"Easting\",EAST],AXIS[\"Northing\",NORTH]]\n\nCounty: Monroe\n\tfull shape: (72065, 83622)\n\tnormalized size: 22.5194\n\tprojection: EPSG:2898\n\nCounty: Oakland\n\tfull shape: (88554, 85039)\n\tnormalized size: 22.7422\n\tprojection: EPSG:2898\n\nCounty: StClair\n\tfull shape: (121644, 80476)\n\tnormalized size: 23.0046\n\tprojection: EPSG:2898\n\nCounty: Washtenaw\n\tfull shape: (70033, 83394)\n\tnormalized size: 22.4881\n\tprojection: EPSG:2898\n\nCounty: Wayne\n\tfull shape: (161654, 189953)\n\tnormalized size: 24.1477\n\tprojection: EPSG:2898\n\n"
    }
   ],
   "source": [
    "for k, v in FULL_GEOTIFFS.items():\n",
    "\n",
    "    shp = v['builder'].shape\n",
    "    print(f\"County: {k}\")\n",
    "    print(f\"\\tfull shape: {shp}\")\n",
    "    print(f\"\\tnormalized size: {round(np.log(shp[0] * shp[1]), 4)}\")\n",
    "    print(f\"\\tprojection: {v['builder'].src.crs}\")\n",
    "    print()"
   ]
  },
  {
   "cell_type": "code",
   "execution_count": 5,
   "metadata": {
    "tags": []
   },
   "outputs": [],
   "source": [
    "# %%time\n",
    "# test = full_geotiffs['Livingston']['builder']\n",
    "# tiles, center_coords = test.build_mosaic()"
   ]
  },
  {
   "cell_type": "code",
   "execution_count": 6,
   "metadata": {
    "tags": []
   },
   "outputs": [],
   "source": [
    "# IDX_TEST = 69\n",
    "\n",
    "# tiles[IDX_TEST].shape\n",
    "# print(f'coords: {center_coords[IDX_TEST]}')\n",
    "# print(f'shape: {tiles[IDX_TEST].shape}')\n",
    "\n",
    "# fig = tiling_util.build_fig(size=(2,2), axis_off=True)\n",
    "# plt.imshow(np.moveaxis(tiles[IDX_TEST], 0, 2))"
   ]
  },
  {
   "cell_type": "code",
   "execution_count": 7,
   "metadata": {
    "tags": []
   },
   "outputs": [],
   "source": [
    "# dir(test.src)\n",
    "# # print(test.src.meta['transform'])\n",
    "# print(test.src.res)"
   ]
  },
  {
   "cell_type": "code",
   "execution_count": 8,
   "metadata": {},
   "outputs": [],
   "source": [
    "# tmp = np.asarray(tiles)\n",
    "# tmp.shape"
   ]
  },
  {
   "cell_type": "code",
   "execution_count": 9,
   "metadata": {
    "tags": []
   },
   "outputs": [],
   "source": [
    "# \"\"\"\n",
    "# SHOULD NOT PRINT ANYTHING\n",
    "# \"\"\"\n",
    "\n",
    "# reload(tiling_util)\n",
    "# tiles[0].shape\n",
    "\n",
    "# for i, tile in enumerate(tiles):\n",
    "#     if tile.shape != tiles[0].shape:\n",
    "#         print(i, np.max(tile), np.min(tile), tile.shape)"
   ]
  },
  {
   "cell_type": "code",
   "execution_count": 10,
   "metadata": {},
   "outputs": [],
   "source": [
    "# new_rows = []\n",
    "\n",
    "# for i, (lat, lon) in enumerate(center_coords):\n",
    "#     row = {\n",
    "#         'image_index':i,\n",
    "#         'latitiude':lat,\n",
    "#         'longitude':lon,\n",
    "#         'county': test.NAME,\n",
    "#         'window_size':test.MOSIAC_SIDE_LENGTH\n",
    "#     }\n",
    "#     new_rows.append(row)\n",
    "\n",
    "# test_coord_df = pd.DataFrame(new_rows)\n",
    "# test_coord_df.head()"
   ]
  },
  {
   "cell_type": "markdown",
   "metadata": {},
   "source": [
    "# Let's do the important ones"
   ]
  },
  {
   "cell_type": "code",
   "execution_count": 11,
   "metadata": {
    "tags": []
   },
   "outputs": [],
   "source": [
    "# %%memit\n",
    "\n",
    "# \"\"\"\n",
    "# create quilt and coordinate vector\n",
    "# \"\"\"\n",
    "\n",
    "# reload(tiling_util)\n",
    "\n",
    "# save_dir = '/Volumes/Cooper_TB_Drive/research/readmissions/tile_files/'\n",
    "\n",
    "# counties = ['Livingston', 'Monroe', 'Oakland', 'Washtenaw', 'Wayne']\n",
    "\n",
    "# county = counties[4]\n",
    "\n",
    "# gc.collect()\n",
    "# print('Memory (Before): ' + str(mem_profile.memory_usage()) + 'MB' )\n",
    "# print(f\"starting: {county}\")\n",
    "\n",
    "# ## build tiles \n",
    "# start_time = time.time()\n",
    "# builder = FULL_GEOTIFFS[county]['builder']\n",
    "# tiles, center_coords = builder.build_mosaic()\n",
    "# end_time = time.time() - start_time\n",
    "# print(f\"tiling {county} took: {end_time/60:.2f} minutes\")\n",
    "# print(f\"{county} has: {len(center_coords)} image tiles\")\n",
    "# print('Memory (After) : ' + str(mem_profile.memory_usage()) + 'MB')"
   ]
  },
  {
   "cell_type": "code",
   "execution_count": 12,
   "metadata": {},
   "outputs": [],
   "source": [
    "# \"\"\"\n",
    "# create disions\n",
    "# \"\"\"\n",
    "\n",
    "# def get_chunks(arr, chunksize=1000): \n",
    "#     \"\"\" a function to divide a large vector \n",
    "#     into equal subparts.\n",
    "\n",
    "#     Args:\n",
    "#         - arr (iterable): array to chunk\n",
    "#         - chunksize (int): number of indices per chunk\n",
    "    \n",
    "#     Returns: \n",
    "#         - indices (list of tuple): (start, stop)\n",
    "#     \"\"\"\n",
    "#     for i in range(0, len(arr), chunksize):\n",
    "#         yield arr[i:i + chunksize]"
   ]
  },
  {
   "cell_type": "code",
   "execution_count": 13,
   "metadata": {
    "tags": []
   },
   "outputs": [],
   "source": [
    "# %%memit\n",
    "\n",
    "# \"\"\"\n",
    "# save arrays in chunks\n",
    "# \"\"\"\n",
    "\n",
    "# CHUNK_SIZE = 1000\n",
    "\n",
    "# print(f'Cell Memory (Before): {str(mem_profile.memory_usage())} MB' )\n",
    "# chunk_counter = 0\n",
    "# for chunk in get_chunks(tiles, chunksize=CHUNK_SIZE):\n",
    "#     gc.collect() # force collect each iteration \n",
    "#     chunk_counter += 1\n",
    "\n",
    "#     print(f'\\tChunk {chunk_counter} Memory (Before): {str(mem_profile.memory_usage())} MB')\n",
    "#     NP_SAVEPATH = f\"{save_dir}{chunk_counter}_{county}_tiles.npy\"\n",
    "#     start_time = time.time()\n",
    "#     tiles_np = np.asarray(chunk)\n",
    "#     print(f\"\\tConverted {county} chunk {chunk_counter} to array.\")\n",
    "#     np.save(NP_SAVEPATH, tiles_np)\n",
    "#     end_time = time.time() - start_time\n",
    "#     print(f\"\\tSaving {county} chunk {chunk_counter} took: {end_time/60:.2f} minutes\")\n",
    "#     print(f'\\tChunk {chunk_counter} Memory (After): {str(mem_profile.memory_usage())} MB')\n",
    "#     print()\n",
    "\n",
    "# print(f'Cell Memory (After): {str(mem_profile.memory_usage())} MB' )\n",
    "\n"
   ]
  },
  {
   "cell_type": "code",
   "execution_count": 14,
   "metadata": {
    "tags": []
   },
   "outputs": [],
   "source": [
    "# print('Memory (Before): ' + str(mem_profile.memory_usage()) + 'MB' )\n",
    "# gc.collect()\n",
    "# ## build coordinate map\n",
    "# new_rows = []\n",
    "# for i, (lat, lon) in enumerate(center_coords):\n",
    "#     row = {\n",
    "#         'image_index':i,\n",
    "#         'latitiude':lat,\n",
    "#         'longitude':lon,\n",
    "#         'projection':builder.src.crs,\n",
    "#         'resolution':builder.src.res,\n",
    "#         'metadata':builder.src.meta,\n",
    "#         'county': builder.NAME,\n",
    "#         'window_size':builder.MOSIAC_SIDE_LENGTH}\n",
    "#     new_rows.append(row)\n",
    "\n",
    "# coord_df = pd.DataFrame(new_rows)\n",
    "# coord_df['chunk_file'] = (coord_df.index / CHUNK_SIZE + 1).astype(int)\n",
    "\n",
    "# DF_SAVEPATH = f\"{save_dir}{county}_coordinate_map.csv\"\n",
    "# coord_df.to_csv(DF_SAVEPATH, index=False)\n",
    "# print('Memory (After) : ' + str(mem_profile.memory_usage()) + 'MB')"
   ]
  },
  {
   "cell_type": "code",
   "execution_count": 15,
   "metadata": {},
   "outputs": [],
   "source": [
    "# coord_df.tail()"
   ]
  },
  {
   "cell_type": "markdown",
   "metadata": {},
   "source": [
    "# Wayne County needs special treatment"
   ]
  },
  {
   "cell_type": "code",
   "execution_count": 16,
   "metadata": {
    "tags": []
   },
   "outputs": [
    {
     "output_type": "stream",
     "name": "stdout",
     "text": "Livingston (2.0, 2.0)\nMacomb (2.0, 2.0)\nMonroe (2.0, 2.0)\nOakland (2.0, 2.0)\nStClair (2.0, 2.0)\nWashtenaw (2.0, 2.0)\nWayne (1.0, 1.0)\n"
    }
   ],
   "source": [
    "for k, v, in FULL_GEOTIFFS.items():\n",
    "    print(k, v['builder'].src.res)"
   ]
  },
  {
   "cell_type": "code",
   "execution_count": null,
   "metadata": {},
   "outputs": [],
   "source": []
  },
  {
   "cell_type": "code",
   "execution_count": null,
   "metadata": {},
   "outputs": [],
   "source": []
  },
  {
   "cell_type": "code",
   "execution_count": null,
   "metadata": {},
   "outputs": [],
   "source": []
  },
  {
   "cell_type": "code",
   "execution_count": 17,
   "metadata": {
    "tags": []
   },
   "outputs": [
    {
     "output_type": "stream",
     "name": "stdout",
     "text": "NUMBER OF CHUNKS: 8\nWorking windows for Chunk: 1\nMemory (Before): [168.7265625] MB\nConverting Wayne chunk 1 to array.\nChunk: 1 took: 15.25\nMemory (After) : [1188.984375]MB\n\nWorking windows for Chunk: 2\nMemory (Before): [1189.00390625] MB\nConverting Wayne chunk 2 to array.\nChunk: 2 took: 16.93\nMemory (After) : [1477.7109375]MB\n\nWorking windows for Chunk: 3\nMemory (Before): [1477.875] MB\nConverting Wayne chunk 3 to array.\nChunk: 3 took: 16.86\nMemory (After) : [1300.3828125]MB\n\nWorking windows for Chunk: 4\nMemory (Before): [1300.42578125] MB\nConverting Wayne chunk 4 to array.\nChunk: 4 took: 16.94\nMemory (After) : [2103.20703125]MB\n\nWorking windows for Chunk: 5\nMemory (Before): [2103.23828125] MB\nConverting Wayne chunk 5 to array.\nChunk: 5 took: 16.32\nMemory (After) : [1302.296875]MB\n\nWorking windows for Chunk: 6\nMemory (Before): [1302.359375] MB\nConverting Wayne chunk 6 to array.\nChunk: 6 took: 16.34\nMemory (After) : [1431.16796875]MB\n\nWorking windows for Chunk: 7\nMemory (Before): [1431.33203125] MB\nConverting Wayne chunk 7 to array.\nChunk: 7 took: 16.29\nMemory (After) : [1709.328125]MB\n\nWorking windows for Chunk: 8\nMemory (Before): [1709.359375] MB\nConverting Wayne chunk 8 to array.\nChunk: 8 took: 10.79\nMemory (After) : [6089.9296875]MB\n\nCPU times: user 1h 2s, sys: 26min 49s, total: 1h 26min 52s\nWall time: 2h 5min 49s\n"
    }
   ],
   "source": [
    "%%time \n",
    "\n",
    "\"\"\"\n",
    "Only grabbing tiles for now. Chunk at a time - then go back and do coordinates.\n",
    "\"\"\"\n",
    "reload(tiling_util)\n",
    "\n",
    "save_dir = '/Volumes/Cooper_TB_Drive/research/readmissions/tile_files/'\n",
    "\n",
    "builder = FULL_GEOTIFFS['Wayne']['builder']\n",
    "chunk_indices = builder.laz_build_mosaic()\n",
    "\n",
    "print(f\"NUMBER OF CHUNKS: {len(list(chunk_indices))}\")\n",
    "\n",
    "chunk_indices = builder.laz_build_mosaic()\n",
    "\n",
    "for idx, chunk in enumerate(chunk_indices):\n",
    "    gc.collect()\n",
    "    start_time = time.time()\n",
    "\n",
    "    chunk_id = idx + 1\n",
    "\n",
    "    print(f\"Working windows for Chunk: {chunk_id}\")\n",
    "    print('Memory (Before): ' + str(mem_profile.memory_usage()) + ' MB')\n",
    "\n",
    "    tiles = []\n",
    "\n",
    "    for args in chunk:\n",
    "        row_i, col_i, side_len = args\n",
    "\n",
    "        clip = builder.get_window(row_i, col_i, side_len)\n",
    "\n",
    "        # handle non-square clips\n",
    "        if clip.shape[1] != side_len or clip.shape[2] != side_len:\n",
    "            pad = np.full((3, side_len, side_len), builder.PAD_VALUE)\n",
    "            pad[:, 0:clip.shape[1], 0:clip.shape[2]] = clip\n",
    "            clip = pad.copy()\n",
    "        \n",
    "        # print(clip.shape)\n",
    "        # fig = tiling_util.build_fig(size=(2,2), axis_off=True)\n",
    "        # plt.imshow(np.moveaxis(clip, 0, 2))\n",
    "\n",
    "\n",
    "        \"\"\"\n",
    "        NOTE: we resize the image using skimage.\n",
    "        \"\"\"\n",
    "        clip = resize(clip, (3, 1000, 1000))\n",
    "\n",
    "        # print(test.shape)\n",
    "        # fig = tiling_util.build_fig(size=(2,2), axis_off=True)\n",
    "        # plt.imshow(np.moveaxis(test, 0, 2))\n",
    "\n",
    "\n",
    "        tiles.append(clip)            \n",
    "\n",
    "    print(f\"Converting Wayne chunk {chunk_id} to array.\")\n",
    "    tiles_np = np.asarray(tiles)\n",
    "\n",
    "    NP_SAVEPATH = f\"{save_dir}{chunk_id}_Wayne_tiles.npy\"\n",
    "    np.save(NP_SAVEPATH, tiles_np)\n",
    "    end_time = time.time() - start_time\n",
    "    print(f\"Chunk: {chunk_id} took: {end_time/60:.2f}\")\n",
    "    gc.collect()\n",
    "    print('Memory (After) : ' + str(mem_profile.memory_usage()) + 'MB')\n",
    "    print()"
   ]
  },
  {
   "cell_type": "code",
   "execution_count": 18,
   "metadata": {
    "tags": []
   },
   "outputs": [
    {
     "output_type": "stream",
     "name": "stdout",
     "text": "Working windows for Chunk: 1\nMemory (Before): [5959.875] MB\nChunk: 1 took: 1.66\nMemory (After) : [5882.734375]MB\n\nWorking windows for Chunk: 2\nMemory (Before): [5882.734375] MB\nChunk: 2 took: 1.64\nMemory (After) : [5885.6171875]MB\n\nWorking windows for Chunk: 3\nMemory (Before): [5885.6171875] MB\nChunk: 3 took: 1.63\nMemory (After) : [5844.40234375]MB\n\nWorking windows for Chunk: 4\nMemory (Before): [5844.40234375] MB\nChunk: 4 took: 1.63\nMemory (After) : [5845.77734375]MB\n\nWorking windows for Chunk: 5\nMemory (Before): [5845.77734375] MB\nChunk: 5 took: 1.63\nMemory (After) : [5847.53515625]MB\n\nWorking windows for Chunk: 6\nMemory (Before): [5847.5390625] MB\nChunk: 6 took: 1.64\nMemory (After) : [5791.16796875]MB\n\nWorking windows for Chunk: 7\nMemory (Before): [5791.16796875] MB\nChunk: 7 took: 1.65\nMemory (After) : [5714.3984375]MB\n\nWorking windows for Chunk: 8\nMemory (Before): [5714.3984375] MB\nChunk: 8 took: 1.13\nMemory (After) : [5715.2421875]MB\n\nMemory (After) : [5719.81640625]MB\nCPU times: user 11min 49s, sys: 44.6 s, total: 12min 34s\nWall time: 12min 43s\n"
    }
   ],
   "source": [
    "%%time \n",
    "gc.collect()\n",
    "\"\"\"\n",
    "do coordinates.\n",
    "\"\"\"\n",
    "CHUNK_SIZE = 1000\n",
    "reload(tiling_util)\n",
    "\n",
    "save_dir = '/Volumes/Cooper_TB_Drive/research/readmissions/tile_files/'\n",
    "\n",
    "builder = FULL_GEOTIFFS['Wayne']['builder']\n",
    "chunk_indices = builder.laz_build_mosaic()\n",
    "new_rows = []\n",
    "\n",
    "clip_counter = 0\n",
    "\n",
    "for idx, chunk in enumerate(chunk_indices):\n",
    "    gc.collect()\n",
    "    start_time = time.time()\n",
    "\n",
    "    chunk_id = idx + 1\n",
    "\n",
    "    print(f\"Working windows for Chunk: {chunk_id}\")\n",
    "    print('Memory (Before): ' + str(mem_profile.memory_usage()) + ' MB')\n",
    "\n",
    "    for args in chunk:\n",
    "        row_i, col_i, side_len = args\n",
    "\n",
    "        lat, lon = builder.get_latlon_point(row_i + side_len // 2, col_i + side_len // 2)\n",
    "\n",
    "        row = {\n",
    "            'image_index':clip_counter,\n",
    "            'latitiude':lat,\n",
    "            'longitude':lon,\n",
    "            'projection':builder.src.crs,\n",
    "            'resolution':builder.src.res,\n",
    "            'metadata':builder.src.meta,\n",
    "            'county': builder.NAME,\n",
    "            'window_size':builder.MOSIAC_SIDE_LENGTH * 2,\n",
    "            'chunk_file':chunk_id}\n",
    "\n",
    "        new_rows.append(row)\n",
    "        clip_counter += 1\n",
    "\n",
    "    end_time = time.time() - start_time\n",
    "    gc.collect()\n",
    "    print(f\"Chunk: {chunk_id} took: {end_time/60:.2f}\")\n",
    "    print('Memory (After) : ' + str(mem_profile.memory_usage()) + 'MB')\n",
    "    print()\n",
    "\n",
    "\n",
    "coord_df = pd.DataFrame(new_rows)\n",
    "DF_SAVEPATH = f\"{save_dir}Wayne_coordinate_map.csv\"\n",
    "gc.collect()\n",
    "coord_df.to_csv(DF_SAVEPATH, index=False)\n",
    "print('Memory (After) : ' + str(mem_profile.memory_usage()) + 'MB')\n",
    "\n"
   ]
  },
  {
   "cell_type": "code",
   "execution_count": null,
   "metadata": {},
   "outputs": [],
   "source": []
  }
 ]
}